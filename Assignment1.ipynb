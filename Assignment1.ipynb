{
 "cells": [
  {
   "cell_type": "markdown",
   "metadata": {
    "colab_type": "text",
    "deletable": false,
    "editable": false,
    "id": "2l_u4kPQIbl7",
    "nbgrader": {
     "cell_type": "markdown",
     "checksum": "5cec26dd9da048e44f97f0761da69090",
     "grade": false,
     "grade_id": "cell-ff06de8ceaeddcd2",
     "locked": true,
     "schema_version": 3,
     "solution": false,
     "task": false
    }
   },
   "source": [
    "## Building A Neural Network From Scratch (15 Marks):\n",
    "In this assignment, you will build a neural network from scratch using NumPy. You will implement functions to build a neural network with as many layers as you want. You will also use this neural network to build a classifier for the [Credit Approval Dataset](https://archive.ics.uci.edu/ml/datasets/credit+approval) after performing data cleaning and preprocessing tasks yourself.\n",
    "<center><img src=\"credit-approval-rubber-stamp.jpg\" width=\"180\" height=\"180\"></center>\n",
    "So, let's get started!"
   ]
  },
  {
   "cell_type": "markdown",
   "metadata": {
    "colab_type": "text",
    "deletable": false,
    "editable": false,
    "id": "foM4FRogLyx8",
    "nbgrader": {
     "cell_type": "markdown",
     "checksum": "ab91ec3ed389293cbc3a2b105b50f0a4",
     "grade": false,
     "grade_id": "cell-a6bac1fa2e306d57",
     "locked": true,
     "schema_version": 3,
     "solution": false,
     "task": false
    }
   },
   "source": [
    "### Overview of the Assignment:\n",
    "The assignment asks you to complete several functions, with each function guiding you through the necessary steps to complete it. You will:\n",
    "1. Preprocess the Credit Approval Dataset (like fill in missing values, split into test and train sets, etc).\n",
    "2. Implement various activation functions taught in class.\n",
    "3. Initialize the weight matrices and bias vectors of the neural network depending on its architecture.\n",
    "4. Implement the forward propagation module.\n",
    "5. Compute cross entropy loss function.\n",
    "6. Implement the backward propagation module to compute gradients of loss function w.r.t. weights of the network.\n",
    "7. With the help of batch gradient descent optimizer, update the weights of the neural network using gradients computed in the previous step.\n",
    "8. Repeat steps 3-6 for several epochs to train the neural network on Credit Approval Dataset.\n",
    "9. Report the accuracy of the neural network on test data."
   ]
  },
  {
   "cell_type": "markdown",
   "metadata": {
    "colab_type": "text",
    "deletable": false,
    "editable": false,
    "id": "P0_g9plwKpLI",
    "nbgrader": {
     "cell_type": "markdown",
     "checksum": "1cb144af5930ebc361289e7ac2f0f42e",
     "grade": false,
     "grade_id": "cell-b6a249b6e610bd3b",
     "locked": true,
     "schema_version": 3,
     "solution": false,
     "task": false
    }
   },
   "source": [
    "### Terminologies used for describing the computations of the Neural Network:\n",
    "* Superscript $[h]$ denotes a quantity associated with the $h^{th}$ layer. \n",
    "    - Example: $a^{[h]}$ is the $h^{th}$ layer activation. $W^{[h]}$ and $b^{[h]}$ are the $h^{th}$ layer parameters.\n",
    "* Superscript $(i)$ denotes a quantity associated with the $i^{th}$ example. \n",
    "    - Example: $y^{(i)}$ is the ground truth label corresponding to the $i^{th}$ training example.\n",
    "\n",
    "<center><img src=\"neural_network_diagram.jpg\" width=\"512\" height=\"200\"></center>\n",
    "\n",
    "* A layer of the neural network consists of:\n",
    "    - a weight matrix $W^{[h]}$of shape (size of current layer, size of previous layer)\n",
    "    - a bias vector $b^{[h]} $of shape (size of current layer, 1)\n",
    "    - an activation function $ g^{[h]} $\n",
    "* Computation in a layer $h$ of the neural network can be described as follows:\n",
    "  - Let $A^{[h-1]}$ be the activations of the previous layer or input data (if current layer is first hidden layer), of shape (size of previous layer, number of examples).\n",
    "  - Let $ Z^{[h]} $ be the pre-activation value. Then, $ Z^{[h]} $ is computed as :\n",
    "  $$ Z^{[h]} = W^{[h]}.A^{[h-1]}+b^{[h]}$$\n",
    "  where $ . $ denotes matrix multiplication.\n",
    "  So, $Z^{[h]}$ will be of shape (size of current layer, number of examples).\n",
    "  - Let $A^{[h]}$ denote post activation value. It is computed as:\n",
    "  $$ A^{[h]} = g^{[h]}(Z^{[h]}) $$\n",
    "  Note that shape of $A^{[h]}$ is same as that of $Z^{[h]}$.\n",
    "  - Above, $h$ is an integer in the range $[1, H]$. $h=H$ denotes the output layer, while $h<H$ denotes a hidden layer.\n",
    "  - Also note that $A^{[0]}$ is nothing but $X$, the input data.\n",
    "* If you wish to learn about neural networks from scratch, you can watch the videos 43 to 57 (as per your convenience/requirement) from this [Youtube playlist](https://www.youtube.com/playlist?list=PLLssT5z_DsK-h9vYZkQkYNWcItqhlRJLN)."
   ]
  },
  {
   "cell_type": "markdown",
   "metadata": {
    "colab_type": "text",
    "deletable": false,
    "editable": false,
    "id": "IleUSw1AQG5t",
    "nbgrader": {
     "cell_type": "markdown",
     "checksum": "98eaf8d782e0796fd5215e9f2543f020",
     "grade": false,
     "grade_id": "cell-c2690980b5a080a2",
     "locked": true,
     "schema_version": 3,
     "solution": false,
     "task": false
    }
   },
   "source": [
    "### Neural Network Architecture Implementation Details:\n",
    "* The neural network you will build will consist of $H$ layers in total (excluding the input layer). It will have ($H-1$) hidden layers  and an output layer. \n",
    "* The list ```layers_sizes``` (of length $H+1$) contains sizes of input layer (at index $0$), hidden layers (from index $1$ to $H-1$) and output layer (at index $H$). \n",
    "* The list ```activations``` (of length H) is list of strings, representing the activation functions used in the hidden layers and the output layer. Since the Credit Approval Dataset is a classification task, the string at index $H-1$ will always be \"sigmoid\". \n",
    "* The weights of the neural network will be stored in a list ```weights``` (of length $H$), where each element is a list - $[W^{[h]}, b^{[h]}]$, representing the  weights matrix and bias vector of layer $h$ (Both $W^{[h]}$ and  $b^{[h]}$ are numpy arrays).\n",
    "* You will notice that there is a backward function corresponding to each forward function. So, it is essential to store some important values computed in the forward pass that will be useful in the backward pass for computing gradients. A list ```layers_cache``` (of length $H$) is used for this purpose and its details will be described later.\n"
   ]
  },
  {
   "cell_type": "markdown",
   "metadata": {
    "colab_type": "text",
    "deletable": false,
    "editable": false,
    "id": "nBUYwxy0PpQ9",
    "nbgrader": {
     "cell_type": "markdown",
     "checksum": "db36863eed5deb37cae92bbe5169d1bf",
     "grade": false,
     "grade_id": "cell-28729ce7bafc1d5f",
     "locked": true,
     "schema_version": 3,
     "solution": false,
     "task": false
    }
   },
   "source": [
    "### What You Have To Do?\n",
    "* The assignment is divided into 11 sections, out of which you only need to complete the sections 2 to 8.\n",
    "* You will have to complete certain portions of certain functions. Write your code at the comment ```# YOUR CODE HERE``` and remove or comment out the line ```raise NotImplementedError()```. The functions will clearly specify what your code should do. \n",
    "* Do not change the type of any cell and do not create any extra cells in your final submission.\n",
    "* The maximum marks for this assignment are 15 marks. The marks for each function and each section are specified above them. Except at one place in section 2, you will be awarded marks for passing the hidden test-cases and not the sample test-cases.\n",
    "* As evident from the design of sample  test-cases, we have tried to keep the evaluation of each section independent from the other sections as far as possible, so that you get marks proportional to the sections you have implemented.\n",
    "* We have provided you with all the necessary files so that you don't need to download any file.\n",
    "* For any clarifications regarding section 2 (Load, Preprocess and Split the Credit Approval Dataset), contact Abhilash Neog (f2016004@pilani.bits-pilani.ac.in). For queries regarding rest of the sections, contact Parth Patel (f2016150@pilani.bits-pilani.ac.in)."
   ]
  },
  {
   "cell_type": "markdown",
   "metadata": {
    "colab_type": "text",
    "deletable": false,
    "editable": false,
    "id": "J4EF1dJ0qCMC",
    "nbgrader": {
     "cell_type": "markdown",
     "checksum": "b2897792b1829dd9b8ce86911e534934",
     "grade": false,
     "grade_id": "cell-741cdb21a20af160",
     "locked": true,
     "schema_version": 3,
     "solution": false,
     "task": false
    }
   },
   "source": [
    "### 1- Import Packages:\n",
    "**DO NOT** import any package from your side."
   ]
  },
  {
   "cell_type": "code",
   "execution_count": null,
   "metadata": {
    "colab": {},
    "colab_type": "code",
    "deletable": false,
    "editable": false,
    "id": "EOVnuBKKjzPL",
    "jupyter": {
     "outputs_hidden": true
    },
    "nbgrader": {
     "cell_type": "code",
     "checksum": "f1a66b53361688534f24d58b15d34993",
     "grade": false,
     "grade_id": "cell-01e2ecfec0cb685a",
     "locked": true,
     "schema_version": 3,
     "solution": false,
     "task": false
    }
   },
   "outputs": [],
   "source": [
    "# do not change code here\n",
    "import numpy as np\n",
    "import pandas as pd\n",
    "import matplotlib.pyplot as plt\n",
    "%matplotlib inline\n",
    "from sklearn.preprocessing import MinMaxScaler, LabelEncoder\n",
    "pd.set_option('chained_assignment',None)"
   ]
  },
  {
   "cell_type": "markdown",
   "metadata": {
    "colab_type": "text",
    "deletable": false,
    "editable": false,
    "id": "4H1IB_ntqCNT",
    "nbgrader": {
     "cell_type": "markdown",
     "checksum": "fba6a61dc1dd10bdf8e6cb4893dddb94",
     "grade": false,
     "grade_id": "cell-c4180a278c1911e3",
     "locked": true,
     "schema_version": 3,
     "solution": false,
     "task": false
    }
   },
   "source": [
    "### 2- Load, Preprocess and Split the Credit Approval Dataset (4.5 Marks):\n",
    "\n",
    "The dataset that we are going to work upon is the [Credit Approval Dataset](https://archive.ics.uci.edu/ml/datasets/credit+approval) . The dataset contains credit card application information. Each attribute provides certain information about an applicant's data. The classification task to perform is, given all the information of an applicant, predict whether his application would be approved or not. But, before the classification task is performed, it is necessary that the data is clean and in the right format to feed into the neural network classifier.<br>\n",
    "**Dataset Description**\n",
    "The dataset contains 690 instances with 11 attributes + class/label attribute, whose types are mentioned below:<br>\n",
    "- A1 - nominal\n",
    "- A2 - continuous (real)\n",
    "- A3 - continuous (real)\n",
    "- A4 - nominal\n",
    "- A5 - nominal\n",
    "- A6 - nominal\n",
    "- A7 - nominal\n",
    "- A8 - continuous (real)\n",
    "- A9 - nominal\n",
    "- A10 - continuous (integer)\n",
    "- A11 - continuous (integer)\n",
    "- A12 - nominal - Class attribute (+/-)\n",
    "\n",
    "*There are certain number of missing values in the dataset, which you need to fill, based on some given conditions.*"
   ]
  },
  {
   "cell_type": "markdown",
   "metadata": {
    "colab_type": "text",
    "deletable": false,
    "editable": false,
    "id": "hdWn_tEvflV7",
    "nbgrader": {
     "cell_type": "markdown",
     "checksum": "1f3a780a30a8a2a6462fc93c6bdb383b",
     "grade": false,
     "grade_id": "cell-afcb65bf0062b41b",
     "locked": true,
     "schema_version": 3,
     "solution": false,
     "task": false
    }
   },
   "source": [
    "#### 2.1 Loading the dataset (0.75 Mark)\n",
    "\n",
    "**The tasks to be performed:**<br>\n",
    "  Load the dataset and answer a few queries:\n",
    "- Read the csv (0.25 Mark)\n",
    "- Query 1: find the range/difference between 3rd highest and 3rd lowest attribute value of an attribute(0.25 Mark)\n",
    "- Query 2: find the average value of a given attribute (with 2 decimal places only) (0.25 Mark)\n",
    "\n",
    "*Hint: Pandas has a wide range of pre-defined library functions. Knowing a few would be really helpful to complete below functions easily.*"
   ]
  },
  {
   "cell_type": "code",
   "execution_count": null,
   "metadata": {
    "colab": {},
    "colab_type": "code",
    "deletable": false,
    "id": "QdaeuKt5qGKJ",
    "nbgrader": {
     "cell_type": "code",
     "checksum": "c6ab2109db44a8b6f67fa4fb1c3cd546",
     "grade": false,
     "grade_id": "cell-41eb1c9da9312c1e",
     "locked": false,
     "schema_version": 3,
     "solution": true,
     "task": false
    }
   },
   "outputs": [],
   "source": [
    "### 0.25 Mark\n",
    "def load_dataset(filename):\n",
    "    \"\"\"\n",
    "      Input: filename - name of the file to load\n",
    "             the colnames are - A1,A2,A3,A4,A5,A6,A7,A8,A9,A10,A11,A12\n",
    "             Note that the csv file doesn't contain column names, so read it appropriately.\n",
    "      Output: return a pandas dataframe containing the dataset\n",
    "      \"\"\"\n",
    "    # YOUR CODE HERE\n",
    "    raise NotImplementedError()"
   ]
  },
  {
   "cell_type": "code",
   "execution_count": null,
   "metadata": {
    "deletable": false,
    "editable": false,
    "nbgrader": {
     "cell_type": "code",
     "checksum": "ee060a809fa3b382fc32c235f44e0e1b",
     "grade": true,
     "grade_id": "load_dataset",
     "locked": true,
     "points": 0.25,
     "schema_version": 3,
     "solution": false,
     "task": false
    }
   },
   "outputs": [],
   "source": [
    "# do not change code here\n",
    "### SAMPLE TEST CASE\n",
    "# This is the only sample test case that fetches you marks.\n",
    "# 0.25 marks for passing this sample test case.\n",
    "print(\"Running sample test case\")\n",
    "data = load_dataset(\"crxData.csv\")\n",
    "assert np.allclose(data.shape, (690,12), atol = 1e-5)\n",
    "print(\"Sample test case passed\")"
   ]
  },
  {
   "cell_type": "code",
   "execution_count": null,
   "metadata": {
    "colab": {},
    "colab_type": "code",
    "deletable": false,
    "id": "rG3JFXJkflWK",
    "jupyter": {
     "outputs_hidden": true
    },
    "nbgrader": {
     "cell_type": "code",
     "checksum": "57b2e61bfabb705c35edf1b8ac13f40b",
     "grade": false,
     "grade_id": "cell-85af6ec068f34446",
     "locked": false,
     "schema_version": 3,
     "solution": true,
     "task": false
    }
   },
   "outputs": [],
   "source": [
    "### 0.25 Mark    \n",
    "def getRange(col):\n",
    "    \"\"\"\n",
    "    Input: col is a pandas series object corresponding to a certain column\n",
    "    Output: return the difference between 3rd highest and 3rd lowest value of col (NOT THE ABSOLUTE VALUE). Round to 2 decimal\n",
    "            places\n",
    "    \"\"\"\n",
    "    # YOUR CODE HERE\n",
    "    raise NotImplementedError()"
   ]
  },
  {
   "cell_type": "code",
   "execution_count": null,
   "metadata": {
    "deletable": false,
    "editable": false,
    "nbgrader": {
     "cell_type": "code",
     "checksum": "b7594a5a954107567d5ad90a90060670",
     "grade": false,
     "grade_id": "cell-bf6237fcd0a43737",
     "locked": true,
     "schema_version": 3,
     "solution": false,
     "task": false
    }
   },
   "outputs": [],
   "source": [
    "# do not change code here\n",
    "### SAMPLE TEST CASE\n",
    "print(\"Running sample test case\")\n",
    "diff = 25.21\n",
    "assert np.allclose(diff, getRange(data['A3']), atol = 1e-5)\n",
    "print(\"Sample test case passed\")"
   ]
  },
  {
   "cell_type": "code",
   "execution_count": null,
   "metadata": {
    "deletable": false,
    "editable": false,
    "nbgrader": {
     "cell_type": "code",
     "checksum": "d7040fdad1a0b98e27b1a08b6da5620b",
     "grade": true,
     "grade_id": "cell-a62801101b5db4e3",
     "locked": true,
     "points": 0.25,
     "schema_version": 3,
     "solution": false,
     "task": false
    }
   },
   "outputs": [],
   "source": [
    "# do not change code here\n",
    "# Hidden Test cases"
   ]
  },
  {
   "cell_type": "code",
   "execution_count": null,
   "metadata": {
    "colab": {},
    "colab_type": "code",
    "deletable": false,
    "id": "3F78xHOCflWa",
    "jupyter": {
     "outputs_hidden": true
    },
    "nbgrader": {
     "cell_type": "code",
     "checksum": "af1894b3fb4d3ef8f99867d0d8182ad5",
     "grade": false,
     "grade_id": "cell-37a358e03dbe2495",
     "locked": false,
     "schema_version": 3,
     "solution": true,
     "task": false
    }
   },
   "outputs": [],
   "source": [
    "### 0.25 Mark\n",
    "def avgprice(col):\n",
    "    \"\"\"\n",
    "    Input: col is a pandas series object corresponding to a certain column\n",
    "    Output: return the average of all the values in that attribute to 2 decimal places\n",
    "    \"\"\"\n",
    "    # YOUR CODE HERE\n",
    "    raise NotImplementedError()"
   ]
  },
  {
   "cell_type": "code",
   "execution_count": null,
   "metadata": {
    "deletable": false,
    "editable": false,
    "nbgrader": {
     "cell_type": "code",
     "checksum": "2df60e7b1a40268f0b8c0bdec55cda97",
     "grade": false,
     "grade_id": "cell-92919f00f57a6d57",
     "locked": true,
     "schema_version": 3,
     "solution": false,
     "task": false
    }
   },
   "outputs": [],
   "source": [
    "# do not change code here\n",
    "### SAMPLE TEST CASE\n",
    "print(\"Running sample test case\")\n",
    "avg = 4.76\n",
    "assert np.allclose(avg, avgprice(data['A3']), atol = 1e-5)\n",
    "print(\"Sample test case passed\")"
   ]
  },
  {
   "cell_type": "code",
   "execution_count": null,
   "metadata": {
    "deletable": false,
    "editable": false,
    "nbgrader": {
     "cell_type": "code",
     "checksum": "808b5c735a2d17dbbb47622914c8c232",
     "grade": true,
     "grade_id": "cell-db2d0b23b49ba675",
     "locked": true,
     "points": 0.25,
     "schema_version": 3,
     "solution": false,
     "task": false
    }
   },
   "outputs": [],
   "source": [
    "# do not change code here\n",
    "# Hidden Test cases"
   ]
  },
  {
   "cell_type": "markdown",
   "metadata": {
    "colab_type": "text",
    "deletable": false,
    "editable": false,
    "id": "1PGh3P3sflW3",
    "nbgrader": {
     "cell_type": "markdown",
     "checksum": "c0e3afcc2706125cf0b069ddefc93157",
     "grade": false,
     "grade_id": "cell-cc944c5a3fd54851",
     "locked": true,
     "schema_version": 3,
     "solution": false,
     "task": false
    }
   },
   "source": [
    "#### 2.2 Filling the missing values (2.75 Marks)\n",
    "\n",
    "**The tasks to be performed:**<br>\n",
    "\n",
    "- For every categorical attribute, replace '?' with the most common string in the neighbourhood (1 Mark)\n",
    "- For every real-valued attribute, replace '?' with the mean of the values in that column (1 Mark)\n",
    "- For every integer-valued attribute, replace '?' with the min value in that column (0.75 Mark)\n",
    "\n",
    "*Explanation for filling categorical attributes:* <br>\n",
    "\n",
    " Find the most common string in the column - cmn_str (say)<br>\n",
    " For every missing value '?', check its previous and next value in the original column (passed as input to the fillCATEGORICAL() function):\n",
    " - if previous does not exist (meaning first index): fill it with the next value (only if next is not '?', else fill with cmn_str)\n",
    " - if next does not exist (meaning last index): fill it with previous value (only if previous is not '?', else fill with cmn_str)\n",
    " - if both exist: fill it with next value (only if next is not '?', else fill with previous value(only if it is not '?', else cmn_str))<br>  \n",
    " See the example provided below in comments for more details.\n",
    " \n",
    "*Hint: [Pandas series mode](https://pandas.pydata.org/pandas-docs/stable/reference/api/pandas.Series.mode.html#pandas.Series.mode) might be useful*\n",
    " \n",
    "**Note:** Due to the presence of '?', the attribute values are treated as string values. It's important to convert the values into numeric type for mean and min calculation"
   ]
  },
  {
   "cell_type": "code",
   "execution_count": null,
   "metadata": {
    "colab": {},
    "colab_type": "code",
    "deletable": false,
    "id": "LJcKsWg2flW6",
    "jupyter": {
     "outputs_hidden": true
    },
    "nbgrader": {
     "cell_type": "code",
     "checksum": "714278a9a362b79939b9624a84bc0d88",
     "grade": false,
     "grade_id": "cell-9769d09e3c947c52",
     "locked": false,
     "schema_version": 3,
     "solution": true,
     "task": false
    }
   },
   "outputs": [],
   "source": [
    "### 1 Mark\n",
    "def fillCATEGORICAL(column):\n",
    "    \"\"\"\n",
    "    Input: 'column' is a pandas series object representing an attribute column in the dataset\n",
    "    Output:  return the modified column (series object) after filling in the missing values with the above procedure\n",
    "    Approach: Get the indices of missing values (brute force is fine), then scan around those locations.\n",
    "              Eg. column is [?,?,alp,alp,mod,alp,beta,?,?,?,mod,alp,beta,alp,alp,alp,alp,?,?],\n",
    "                  alp is the most common string,\n",
    "                  output should be - [alp,alp,alp,alp,mod,alp,beta,beta,alp,mod,mod,alp,beta,alp,alp,alp,alp,alp,alp]\n",
    "    Note: Assume that the number of missing values is always less than the most common string\n",
    "    \"\"\"\n",
    "    # ind = []\n",
    "    # ABOVE VARIABLE IS NOT MANDATORY TO USE\n",
    "    \n",
    "    # YOUR CODE HERE\n",
    "    raise NotImplementedError()\n",
    "    return column"
   ]
  },
  {
   "cell_type": "code",
   "execution_count": null,
   "metadata": {
    "colab": {},
    "colab_type": "code",
    "deletable": false,
    "editable": false,
    "id": "fbSMD8WNflXi",
    "nbgrader": {
     "cell_type": "code",
     "checksum": "70ab5ec99f8f5bfc64dcee6303b52afb",
     "grade": false,
     "grade_id": "cell-83807e1352cf49d5",
     "locked": true,
     "schema_version": 3,
     "solution": false,
     "task": false
    },
    "outputId": "7b64ce9d-da96-4bad-cef7-9a3bd488fda8"
   },
   "outputs": [],
   "source": [
    "# do not change code here\n",
    "### SAMPLE TEST CASE\n",
    "print(\"Running sample test case\")\n",
    "import copy\n",
    "dataC = data.copy(deep=True)\n",
    "dataN = data.copy(deep=True)\n",
    "dataR = data.copy(deep=True)\n",
    "\n",
    "dataC['A1'] = fillCATEGORICAL(dataC['A1'])\n",
    "dataC['A4'] = fillCATEGORICAL(dataC['A4'])\n",
    "dataC['A5'] = fillCATEGORICAL(dataC['A5'])\n",
    "dataC['A6'] = fillCATEGORICAL(dataC['A6'])\n",
    "dataC['A7'] = fillCATEGORICAL(dataC['A7'])\n",
    "\n",
    "# assert dataC.equals(pd.read_pickle('categorical_credits.p'))\n",
    "pd.testing.assert_frame_equal(dataC, pd.read_pickle('categorical_credits.p'))\n",
    "print(\"Sample test case passed\")"
   ]
  },
  {
   "cell_type": "code",
   "execution_count": null,
   "metadata": {
    "colab": {},
    "colab_type": "code",
    "deletable": false,
    "editable": false,
    "id": "jpspqmM6flXs",
    "nbgrader": {
     "cell_type": "code",
     "checksum": "a83d91437ab945dbca191fb9f115b371",
     "grade": true,
     "grade_id": "cell-3e5b0b1b930f3583",
     "locked": true,
     "points": 1,
     "schema_version": 3,
     "solution": false,
     "task": false
    }
   },
   "outputs": [],
   "source": [
    "# do not change code here\n",
    "# Hidden Test cases"
   ]
  },
  {
   "cell_type": "code",
   "execution_count": null,
   "metadata": {
    "colab": {},
    "colab_type": "code",
    "deletable": false,
    "id": "3X1cX_NkflXM",
    "jupyter": {
     "outputs_hidden": true
    },
    "nbgrader": {
     "cell_type": "code",
     "checksum": "07e94b263aab815826fa6c1e8dec6002",
     "grade": false,
     "grade_id": "cell-a1b134a8f17dade7",
     "locked": false,
     "schema_version": 3,
     "solution": true,
     "task": false
    }
   },
   "outputs": [],
   "source": [
    "### 1 Mark\n",
    "def fillREAL(column):\n",
    "    \"\"\"\n",
    "    Input: 'column' is a pandas series object representing an attribute column in the dataset\n",
    "    Output: return the modified column (series object) after filling in the missing values with the mean of that column.\n",
    "            The mean should be calculated ignoring the presence of '?' and it should be rounded off to 2 decimal places\n",
    "            The return data type of the series should be float64\n",
    "    \"\"\"\n",
    "    # ind = []\n",
    "    # cumsum = 0\n",
    "    # count = 0\n",
    "    # ABOVE VARIABLES ARE NOT MANDATORY TO USE\n",
    "    \n",
    "    # YOUR CODE HERE\n",
    "    raise NotImplementedError()\n",
    "    "
   ]
  },
  {
   "cell_type": "code",
   "execution_count": null,
   "metadata": {
    "colab": {},
    "colab_type": "code",
    "deletable": false,
    "editable": false,
    "id": "apfHGTBsflXy",
    "nbgrader": {
     "cell_type": "code",
     "checksum": "58b3142b274f09b45521222878279d6b",
     "grade": false,
     "grade_id": "cell-dc328990510da49c",
     "locked": true,
     "schema_version": 3,
     "solution": false,
     "task": false
    },
    "outputId": "bed5a656-4cc7-433c-9c3d-722bac543507"
   },
   "outputs": [],
   "source": [
    "# do not change code here\n",
    "### SAMPLE TEST CASE\n",
    "print(\"Running sample test case\")\n",
    "dataR['A2'] = fillREAL(dataR['A2'])\n",
    "# assert dataR.equals(pd.read_pickle('real_credits.p'))\n",
    "pd.testing.assert_frame_equal(dataR, pd.read_pickle('real_credits.p'))\n",
    "print(\"Sample test case passed\")"
   ]
  },
  {
   "cell_type": "code",
   "execution_count": null,
   "metadata": {
    "colab": {},
    "colab_type": "code",
    "deletable": false,
    "editable": false,
    "id": "paDF5HD0flX4",
    "nbgrader": {
     "cell_type": "code",
     "checksum": "8026fcab5590eab03ac0235020c8e090",
     "grade": true,
     "grade_id": "cell-240333c4f2d9aea0",
     "locked": true,
     "points": 1,
     "schema_version": 3,
     "solution": false,
     "task": false
    }
   },
   "outputs": [],
   "source": [
    "# do not change code here\n",
    "# Hidden Test cases"
   ]
  },
  {
   "cell_type": "code",
   "execution_count": null,
   "metadata": {
    "colab": {},
    "colab_type": "code",
    "deletable": false,
    "id": "OoUq2R0_flXY",
    "jupyter": {
     "outputs_hidden": true
    },
    "nbgrader": {
     "cell_type": "code",
     "checksum": "af9a0b074451a946895c12234424a613",
     "grade": false,
     "grade_id": "cell-7c639ce793bb5ee3",
     "locked": false,
     "schema_version": 3,
     "solution": true,
     "task": false
    }
   },
   "outputs": [],
   "source": [
    "### 0.75 Mark\n",
    "def fillINT(column):\n",
    "    \"\"\"\n",
    "    Input: 'column' is a pandas series object representing an attribute column in the dataset\n",
    "    Output: return the modified column (series object) after filling in the missing values with the minimum value \n",
    "            of that column. The return type should be int32\n",
    "    \"\"\"\n",
    "    # ind = []\n",
    "    # minVal = 100000000\n",
    "    # ABOVE VARIABLES ARE NOT MANDATORY TO USE\n",
    "    \n",
    "    # YOUR CODE HERE\n",
    "    raise NotImplementedError()"
   ]
  },
  {
   "cell_type": "code",
   "execution_count": null,
   "metadata": {
    "colab": {},
    "colab_type": "code",
    "deletable": false,
    "editable": false,
    "id": "Etvh8K89flX9",
    "nbgrader": {
     "cell_type": "code",
     "checksum": "1b406bc8cb9773de45ddad31124d1989",
     "grade": false,
     "grade_id": "cell-e16664c7edad976a",
     "locked": true,
     "schema_version": 3,
     "solution": false,
     "task": false
    },
    "outputId": "614627e9-9213-4b59-acbd-08cd1081744c"
   },
   "outputs": [],
   "source": [
    "# do not change code here\n",
    "### SAMPLE TEST CASE\n",
    "print(\"Running sample test case\")\n",
    "dataN['A10'] = fillINT(dataN['A10'])\n",
    "# assert dataN.equals(pd.read_pickle('numeric_credits.p'))\n",
    "pd.testing.assert_frame_equal(dataN, pd.read_pickle('numeric_credits.p'))\n",
    "print(\"Sample test case passed\")"
   ]
  },
  {
   "cell_type": "code",
   "execution_count": null,
   "metadata": {
    "colab": {},
    "colab_type": "code",
    "deletable": false,
    "editable": false,
    "id": "Lc4ljDJoflYC",
    "nbgrader": {
     "cell_type": "code",
     "checksum": "2895212005b07875b20149d971439381",
     "grade": true,
     "grade_id": "cell-97f5c7e63d972d90",
     "locked": true,
     "points": 0.75,
     "schema_version": 3,
     "solution": false,
     "task": false
    }
   },
   "outputs": [],
   "source": [
    "# do not change code here\n",
    "# Hidden Test cases"
   ]
  },
  {
   "cell_type": "markdown",
   "metadata": {
    "colab_type": "text",
    "deletable": false,
    "editable": false,
    "id": "f6RkICB7flYJ",
    "nbgrader": {
     "cell_type": "markdown",
     "checksum": "aa644ca1b7812f90bb26b52b16c1054f",
     "grade": false,
     "grade_id": "cell-f06f480c551f3dfc",
     "locked": true,
     "schema_version": 3,
     "solution": false,
     "task": false
    }
   },
   "source": [
    "#### 2.3  Final Preprocessing and Data split(1 Mark)\n",
    "\n",
    "**The tasks to be performed:**<br>\n",
    "\n",
    "- Encode the categorical attributes (0.25 Mark)\n",
    "- Scale the data to the range [0-1] (0.25 Mark)\n",
    "- Split the dataset into training and testing as per the given instructions (0.50 Mark) "
   ]
  },
  {
   "cell_type": "markdown",
   "metadata": {
    "deletable": false,
    "editable": false,
    "nbgrader": {
     "cell_type": "markdown",
     "checksum": "cb3da842a3a130835bcc0fb8adb94b2c",
     "grade": false,
     "grade_id": "cell-4df5e9c1b57332fa",
     "locked": true,
     "schema_version": 3,
     "solution": false,
     "task": false
    }
   },
   "source": [
    "##### Encode the categorical attributes:"
   ]
  },
  {
   "cell_type": "code",
   "execution_count": null,
   "metadata": {
    "colab": {},
    "colab_type": "code",
    "deletable": false,
    "editable": false,
    "id": "TJ7exK-3flYL",
    "jupyter": {
     "outputs_hidden": true
    },
    "nbgrader": {
     "cell_type": "code",
     "checksum": "4b0d43c84007e9b982463a8b8167a183",
     "grade": false,
     "grade_id": "cell-67ac4746e399a890",
     "locked": true,
     "schema_version": 3,
     "solution": false,
     "task": false
    }
   },
   "outputs": [],
   "source": [
    "# do not change code here\n",
    "def labelEncode(col):\n",
    "    \"\"\"\n",
    "    function takes a series object (column of a dataframe) as an input and outputs an label encoded series object\n",
    "    \"\"\"\n",
    "    return LabelEncoder().fit_transform(col)"
   ]
  },
  {
   "cell_type": "code",
   "execution_count": null,
   "metadata": {
    "colab": {},
    "colab_type": "code",
    "deletable": false,
    "id": "zJTanQoxflYP",
    "jupyter": {
     "outputs_hidden": true
    },
    "nbgrader": {
     "cell_type": "code",
     "checksum": "de0619977ab17e844e1bd698990a2cf1",
     "grade": false,
     "grade_id": "cell-7e4e77c9cc18c67b",
     "locked": false,
     "schema_version": 3,
     "solution": true,
     "task": false
    }
   },
   "outputs": [],
   "source": [
    "### 0.25 Mark\n",
    "def encode_dataset(dat):\n",
    "    \"\"\"\n",
    "    Input: dat is the dataframe whose attributes need to be encoded. Shape of dat - (no of instances, no of attr)\n",
    "    \n",
    "    Output: return the encoded dataframe with the same shape\n",
    "    \n",
    "    Approach: Loop through the attributes of dataframe. Check every attribute type - if its categorical/string encode that\n",
    "              column.\n",
    "    \"\"\"\n",
    "    # YOUR CODE HERE\n",
    "    raise NotImplementedError()"
   ]
  },
  {
   "cell_type": "code",
   "execution_count": null,
   "metadata": {
    "colab": {},
    "colab_type": "code",
    "deletable": false,
    "editable": false,
    "id": "iIHD4o-CflYW",
    "nbgrader": {
     "cell_type": "code",
     "checksum": "dfac8db696fcdf119b8c8837393bd276",
     "grade": false,
     "grade_id": "cell-571b526cc8a32f4b",
     "locked": true,
     "schema_version": 3,
     "solution": false,
     "task": false
    },
    "outputId": "41ff7aac-5cc8-4703-baa8-3f8c59c344b0"
   },
   "outputs": [],
   "source": [
    "# do not change code here\n",
    "### SAMPLE TEST CASE\n",
    "print(\"Running sample test case\")\n",
    "encoded_data = encode_dataset(dataC)\n",
    "assert encoded_data.equals(pd.read_pickle('categorical_encode.p'))\n",
    "print(\"Sample test case passed\")"
   ]
  },
  {
   "cell_type": "code",
   "execution_count": null,
   "metadata": {
    "colab": {},
    "colab_type": "code",
    "deletable": false,
    "editable": false,
    "id": "bCf0YnQZflYb",
    "nbgrader": {
     "cell_type": "code",
     "checksum": "406d664c29ed8c9eb0da8bfb89491691",
     "grade": true,
     "grade_id": "cell-b24b69589255a0e9",
     "locked": true,
     "points": 0.25,
     "schema_version": 3,
     "solution": false,
     "task": false
    }
   },
   "outputs": [],
   "source": [
    "# do not change code here\n",
    "# Hidden Test cases"
   ]
  },
  {
   "cell_type": "markdown",
   "metadata": {
    "colab_type": "text",
    "deletable": false,
    "editable": false,
    "id": "Kz6qelGVflYf",
    "nbgrader": {
     "cell_type": "markdown",
     "checksum": "bacabc53e5c77786640b90520ba74ba3",
     "grade": false,
     "grade_id": "cell-a4863570d913dac4",
     "locked": true,
     "schema_version": 3,
     "solution": false,
     "task": false
    }
   },
   "source": [
    "##### Assembling all the preprocessing steps\n",
    "\n",
    "Before moving onto scaling the dataset in the specified range, it is important that the data fed into scaler have all missing values filled and attributes encoded. The below preprocess() does the same. It calls all the operations performed above on the original dataset and produces a dataframe suitable to be fed into the scaler<br>\n",
    "*You are not required to make any changes/edits to this function*"
   ]
  },
  {
   "cell_type": "code",
   "execution_count": null,
   "metadata": {
    "colab": {},
    "colab_type": "code",
    "deletable": false,
    "editable": false,
    "id": "Vw9rcEAGflYh",
    "jupyter": {
     "outputs_hidden": true
    },
    "nbgrader": {
     "cell_type": "code",
     "checksum": "9e563663c9b8d6ac70bda6f8f2880695",
     "grade": false,
     "grade_id": "cell-38721bb259c85dad",
     "locked": true,
     "schema_version": 3,
     "solution": false,
     "task": false
    }
   },
   "outputs": [],
   "source": [
    "# do not change code here\n",
    "def preprocess(dat):\n",
    "    \n",
    "    dat2 = dat.copy(deep=True)\n",
    "    \n",
    "    # calling categorical fill for cols A1, A4, A5, A6, A7\n",
    "    catfill = ['A1','A4','A5','A6','A7']\n",
    "    for col in catfill:\n",
    "        dat2[col] = fillCATEGORICAL(dat2[col])\n",
    "    \n",
    "    # calling Real fill for cols A2\n",
    "    dat2['A2'] = fillREAL(dat2['A2'])\n",
    "    \n",
    "    # calling Int fill for col A10 \n",
    "    dat2['A10'] = fillINT(dat2['A10'])\n",
    "    \n",
    "    # encode the dataset\n",
    "    enc_data = encode_dataset(dat2)\n",
    "    \n",
    "    return enc_data"
   ]
  },
  {
   "cell_type": "markdown",
   "metadata": {
    "deletable": false,
    "editable": false,
    "nbgrader": {
     "cell_type": "markdown",
     "checksum": "45a49196b9ff7616d4cca52fcab5a0b6",
     "grade": false,
     "grade_id": "cell-d107e6d3ec9df09e",
     "locked": true,
     "schema_version": 3,
     "solution": false,
     "task": false
    }
   },
   "source": [
    "##### Scale the data to the range [0-1]:\n",
    "**Note:** Use [min-max scaler](https://scikit-learn.org/stable/modules/generated/sklearn.preprocessing.MinMaxScaler.html) for scaling the data"
   ]
  },
  {
   "cell_type": "code",
   "execution_count": null,
   "metadata": {
    "colab": {},
    "colab_type": "code",
    "deletable": false,
    "id": "aU8BfQ95flYk",
    "jupyter": {
     "outputs_hidden": true
    },
    "nbgrader": {
     "cell_type": "code",
     "checksum": "b5bfe69f06544aad10232cceb64623dc",
     "grade": false,
     "grade_id": "cell-e1954f1e24a4969b",
     "locked": false,
     "schema_version": 3,
     "solution": true,
     "task": false
    }
   },
   "outputs": [],
   "source": [
    "### 0.25 Mark. \n",
    "def scaler(df,colname):\n",
    "    \"\"\"\n",
    "    Input: df is a dataframe of shape (number of instances,number of attributes)\n",
    "           colname is the list of attribute names of the dataframe\n",
    "    \n",
    "    Output: return a DataFrame, with the data being scaled in the range 0-1. The scaled data values should be rounded off\n",
    "            to 2 decimal places\n",
    "    \n",
    "    Approach: create a scaler object and apply it on the input, by calling its pre-defined function (fit_transform())\n",
    "    \"\"\"\n",
    "    # YOUR CODE HERE\n",
    "    raise NotImplementedError()"
   ]
  },
  {
   "cell_type": "code",
   "execution_count": null,
   "metadata": {
    "colab": {},
    "colab_type": "code",
    "deletable": false,
    "editable": false,
    "id": "GdAak5DZflYq",
    "nbgrader": {
     "cell_type": "code",
     "checksum": "36da17abccf26d40a87de5c9e88eb324",
     "grade": false,
     "grade_id": "cell-f1481fdeb8eacd93",
     "locked": true,
     "schema_version": 3,
     "solution": false,
     "task": false
    },
    "outputId": "dcda122e-c6a0-4ce4-997b-666d6295c2db"
   },
   "outputs": [],
   "source": [
    "# do not change code here\n",
    "### SAMPLE TEST CASE\n",
    "print(\"Running sample test case\")\n",
    "processed_data = preprocess(data)\n",
    "colnames = ['A1','A2','A3','A4','A5','A6','A7','A8','A9','A10','A11','A12']\n",
    "scaled_data = scaler(processed_data,colnames)\n",
    "assert scaled_data.equals(pd.read_pickle('data_normalized.p'))\n",
    "print(\"Sample test case passed\")"
   ]
  },
  {
   "cell_type": "code",
   "execution_count": null,
   "metadata": {
    "colab": {},
    "colab_type": "code",
    "deletable": false,
    "editable": false,
    "id": "svcwe4CEflYv",
    "nbgrader": {
     "cell_type": "code",
     "checksum": "dbe2b704e51c0f81e2d8f1e144b51e61",
     "grade": true,
     "grade_id": "cell-e9b2e6844b0e6546",
     "locked": true,
     "points": 0.25,
     "schema_version": 3,
     "solution": false,
     "task": false
    }
   },
   "outputs": [],
   "source": [
    "# do not change code here\n",
    "# Hidden Test cases"
   ]
  },
  {
   "cell_type": "markdown",
   "metadata": {
    "colab_type": "text",
    "deletable": false,
    "editable": false,
    "id": "rQ0rSpwGflYz",
    "nbgrader": {
     "cell_type": "markdown",
     "checksum": "7e84e58e5930ebb867a48d21a0886d28",
     "grade": false,
     "grade_id": "cell-1724ac9521f861a4",
     "locked": true,
     "schema_version": 3,
     "solution": false,
     "task": false
    }
   },
   "source": [
    "##### Train and Test split:\n",
    "\n",
    "The dataset needs to be split into testing and training data. We won't perform any random subsampling, instead divide the dataset into different groups and merge them into TRAIN AND TEST SET<br>\n",
    "\n",
    "**Divide the dataset into 4 groups:**<br>\n",
    "Group 1 LOWLIMIT[0] - HILIMIT[0] <br>\n",
    "Group 2 LOWLIMIT[1] - HILIMIT[1] <br>\n",
    "Group 3 LOWLIMIT[2] - HILIMIT[2] <br>\n",
    "Group 4 LOWLIMIT[3] - HILIMIT[3] <br>\n",
    "\n",
    "LOWLIMIT and HILIMIT are 2 lists which store the row/instance number of the dataset. <br>\n",
    "If HILIMIT:[99, 399, 599, 690], LOLIMIT:[0, 100, 400, 600]. <br>\n",
    "    Group 1 will be formed from rows starting from 0 till 99 (i.e. from 0th row to 99th row of dataframe)<br>\n",
    "    Group 2 will be formed from rows starting from 100 till 399 and so on <br>\n",
    "\n",
    "**After the division, create the train and test set in the following way:**\n",
    " - Train dataset - Stack 1st and 3rd group\n",
    " - Test dataset - Stack 2nd and 4th group<br><br>\n",
    "**Note:** The last column contains the labels of the dataset <br>\n",
    "Hint: Few functions which might be useful: [pandas concat](https://pandas.pydata.org/pandas-docs/stable/reference/api/pandas.concat.html), [pandas to numpy (for pandas version >= 0.24.0)](https://pandas.pydata.org/pandas-docs/stable/reference/api/pandas.DataFrame.to_numpy.html) / [pandas values (for pandas version < 0.24.0)](https://pandas.pydata.org/pandas-docs/stable/reference/api/pandas.DataFrame.values.html) and [numpy transpose](https://docs.scipy.org/doc/numpy/reference/generated/numpy.transpose.html)"
   ]
  },
  {
   "cell_type": "code",
   "execution_count": null,
   "metadata": {
    "colab": {},
    "colab_type": "code",
    "deletable": false,
    "id": "RwXlTerXflYz",
    "jupyter": {
     "outputs_hidden": true
    },
    "nbgrader": {
     "cell_type": "code",
     "checksum": "7bf1bdab03a2a42d4e339ceede8b5be1",
     "grade": false,
     "grade_id": "cell-ecb4d1bf3524961a",
     "locked": false,
     "schema_version": 3,
     "solution": true,
     "task": false
    }
   },
   "outputs": [],
   "source": [
    "### 0.5 Mark\n",
    "def train_and_test_split(data,lolimit,hilimit):\n",
    "    \"\"\"\n",
    "    Complete the function using the logic described above\n",
    "    \n",
    "    Input: input 'df' is a dataframe of shape (no of instances, no of attr) representing the dataset\n",
    "    \n",
    "    Output: Output 4 numpy 2D arrays trainX, trainY, testX, testY of shape:\n",
    "            trainX,testX : (no of attr/features, no of instances)\n",
    "            trainY,testY: (1, no of instances)\n",
    "            \n",
    "    Approach: Divide the dataset into 4 groups mentioned[create temporary dataframes]. Concatenate accordingly.  \n",
    "              Now convert the dataframes into numpy 2D arrays. After the conversion,transpose the arrays so as to match the \n",
    "              the required shape of returned variables\n",
    "    \"\"\"\n",
    "    # YOUR CODE HERE\n",
    "    raise NotImplementedError()"
   ]
  },
  {
   "cell_type": "code",
   "execution_count": null,
   "metadata": {
    "colab": {},
    "colab_type": "code",
    "deletable": false,
    "editable": false,
    "id": "a2UEG_OKflY7",
    "nbgrader": {
     "cell_type": "code",
     "checksum": "8abeff71d5d23017a67fe7748c199b4d",
     "grade": false,
     "grade_id": "cell-1d1939b5fa089eb5",
     "locked": true,
     "schema_version": 3,
     "solution": false,
     "task": false
    }
   },
   "outputs": [],
   "source": [
    "# do not change code here\n",
    "### SAMPLE TEST CASE\n",
    "print(\"Running sample test case\")\n",
    "LOLIMIT = [0,100,400,600]\n",
    "HILIMIT = [99,399,599,690]\n",
    "X_train, Y_train, X_test, Y_test = train_and_test_split(scaled_data,LOLIMIT,HILIMIT)\n",
    "assert np.array_equal(X_train,np.load('trainX.npy'))\n",
    "assert np.array_equal(Y_train,np.load('trainY.npy'))\n",
    "assert np.array_equal(X_test,np.load('testX.npy'))\n",
    "assert np.array_equal(Y_test,np.load('testY.npy'))\n",
    "print(\"Sample test case passed\")"
   ]
  },
  {
   "cell_type": "code",
   "execution_count": null,
   "metadata": {
    "deletable": false,
    "editable": false,
    "nbgrader": {
     "cell_type": "code",
     "checksum": "ddc56f12185c9599d785974b9bc40b3a",
     "grade": false,
     "grade_id": "cell-a545f20e1add5884",
     "locked": true,
     "schema_version": 3,
     "solution": false,
     "task": false
    }
   },
   "outputs": [],
   "source": [
    "print(X_train.shape)\n",
    "print(Y_train.shape)\n",
    "print(X_test.shape)\n",
    "print(Y_test.shape)"
   ]
  },
  {
   "cell_type": "code",
   "execution_count": null,
   "metadata": {
    "colab": {},
    "colab_type": "code",
    "deletable": false,
    "editable": false,
    "id": "CxPg2k0yflY-",
    "nbgrader": {
     "cell_type": "code",
     "checksum": "466b87c0fe28562b414fa4948bb42fdd",
     "grade": true,
     "grade_id": "cell-605f02ca0f7aec29",
     "locked": true,
     "points": 0.5,
     "schema_version": 3,
     "solution": false,
     "task": false
    }
   },
   "outputs": [],
   "source": [
    "# do not change code here\n",
    "# Hidden Test cases"
   ]
  },
  {
   "cell_type": "markdown",
   "metadata": {
    "colab_type": "text",
    "deletable": false,
    "editable": false,
    "id": "66NBJBQY3qQ4",
    "nbgrader": {
     "cell_type": "markdown",
     "checksum": "d2f740c1b470a7a06376dc05ced55425",
     "grade": false,
     "grade_id": "cell-b3b1a74cfffa8fb0",
     "locked": true,
     "schema_version": 3,
     "solution": false,
     "task": false
    }
   },
   "source": [
    "### 3- Activation Functions (2 Marks):\n",
    "\n",
    "Complete the below functions, wherein each Python function corresponds to an activation function.  The equations for various activation functions are: \n",
    "\n",
    "$$linear(z) = z$$\n",
    "$$relu(z) = max(0, z)$$\n",
    "$$sigmoid(z) = 1 / (1 + e^{-z})$$\n",
    "$$tanh(z) = 2/(1+e^{-2z})-1$$\n",
    "$$leaky\\_relu(z) = max(\\alpha*z, z)$$\n",
    "$$softplus(z) = ln(1+e^{z})$$\n",
    "$$ ELU(z)=   \\left\\{\n",
    "\\begin{array}{ll}\n",
    "      z & z>=0 \\\\\n",
    "      \\alpha*(e^{z}-1) & z < 0 \\\\\n",
    "\\end{array} \n",
    "\\right.  $$:\n",
    "\n",
    "The plots of the above activation functions are:\n",
    "\n",
    "<centre><img src=\"index.png\" height=\"500\" width=\"500\"></centre>\n",
    "\n",
    "Hints: \n",
    "* You may find NumPy Masking an useful concept while implementing some of the below functions (<a href=\"https://jakevdp.github.io/PythonDataScienceHandbook/02.06-boolean-arrays-and-masks.html\">NumPy Masking</a>).\n",
    "\n"
   ]
  },
  {
   "cell_type": "code",
   "execution_count": null,
   "metadata": {
    "colab": {},
    "colab_type": "code",
    "deletable": false,
    "id": "nDzsU6D568cU",
    "jupyter": {
     "outputs_hidden": true
    },
    "nbgrader": {
     "cell_type": "code",
     "checksum": "6d09c7b45581aaaa2a011b61c94f1b6c",
     "grade": false,
     "grade_id": "cell-ba1b11dafe77a143",
     "locked": false,
     "schema_version": 3,
     "solution": true,
     "task": false
    }
   },
   "outputs": [],
   "source": [
    "### 0.25 Marks\n",
    "def linear(z):\n",
    "    \"\"\"\n",
    "    Inputs:\n",
    "        z : z can either be a number or a numpy array\n",
    "    Outputs:\n",
    "        Linear function applied to z; if z is an array, the function must be applied to its each element\n",
    "    \"\"\"\n",
    "    # YOUR CODE HERE\n",
    "    raise NotImplementedError()"
   ]
  },
  {
   "cell_type": "code",
   "execution_count": null,
   "metadata": {
    "deletable": false,
    "editable": false,
    "nbgrader": {
     "cell_type": "code",
     "checksum": "8bc2eabc895211296b0e3be5e9ae76b7",
     "grade": false,
     "grade_id": "cell-13e048a065c1a6c6",
     "locked": true,
     "schema_version": 3,
     "solution": false,
     "task": false
    }
   },
   "outputs": [],
   "source": [
    "# do not change code here\n",
    "### SAMPLE TEST CASE\n",
    "print(\"Running sample test case\")\n",
    "z = np.array([[-1.2, 2.0]])\n",
    "l_z = np.array([[-1.2,  2. ]])\n",
    "assert np.allclose(l_z, linear(z), atol = 1e-5)\n",
    "print(\"Sample test case passed\")"
   ]
  },
  {
   "cell_type": "code",
   "execution_count": null,
   "metadata": {
    "deletable": false,
    "editable": false,
    "nbgrader": {
     "cell_type": "code",
     "checksum": "bee80aa79ead019871fb8716e8f1cc61",
     "grade": true,
     "grade_id": "cell-f9de8f343c48831e",
     "locked": true,
     "points": 0.25,
     "schema_version": 3,
     "solution": false,
     "task": false
    }
   },
   "outputs": [],
   "source": [
    "# do not change code here\n",
    "# Hidden Test cases"
   ]
  },
  {
   "cell_type": "code",
   "execution_count": null,
   "metadata": {
    "colab": {},
    "colab_type": "code",
    "deletable": false,
    "id": "VdXx963u3swq",
    "jupyter": {
     "outputs_hidden": true
    },
    "nbgrader": {
     "cell_type": "code",
     "checksum": "a1c07ada1218d438af57dd8d886e79f5",
     "grade": false,
     "grade_id": "cell-7b400295b1d02aab",
     "locked": false,
     "schema_version": 3,
     "solution": true,
     "task": false
    }
   },
   "outputs": [],
   "source": [
    "### 0.25 Marks\n",
    "def relu(z):\n",
    "    \"\"\"\n",
    "    Inputs:\n",
    "        z : z can either be a number or a numpy array\n",
    "    Outputs:\n",
    "        ReLU function applied to z; if z is an array, the function must be applied to its each element\n",
    "    \"\"\"\n",
    "    # YOUR CODE HERE\n",
    "    raise NotImplementedError()"
   ]
  },
  {
   "cell_type": "code",
   "execution_count": null,
   "metadata": {
    "deletable": false,
    "editable": false,
    "nbgrader": {
     "cell_type": "code",
     "checksum": "5fee9e11c20b3904e1a048c3445f3338",
     "grade": false,
     "grade_id": "cell-891fbf2d37f1ce0d",
     "locked": true,
     "schema_version": 3,
     "solution": false,
     "task": false
    }
   },
   "outputs": [],
   "source": [
    "# do not change code here\n",
    "### SAMPLE TEST CASE\n",
    "print(\"Running sample test case\")\n",
    "z = np.array([[-1.2, 2.0]])\n",
    "r_z = np.array([[0., 2.]])\n",
    "assert np.allclose(r_z, relu(z), atol = 1e-5)\n",
    "print(\"Sample test case passed\")"
   ]
  },
  {
   "cell_type": "code",
   "execution_count": null,
   "metadata": {
    "deletable": false,
    "editable": false,
    "nbgrader": {
     "cell_type": "code",
     "checksum": "81d0cf4b935b2cca107dbc6d69d3f674",
     "grade": true,
     "grade_id": "cell-ad4fd6f3d828ec63",
     "locked": true,
     "points": 0.25,
     "schema_version": 3,
     "solution": false,
     "task": false
    }
   },
   "outputs": [],
   "source": [
    "# do not change code here\n",
    "# Hidden Test cases"
   ]
  },
  {
   "cell_type": "code",
   "execution_count": null,
   "metadata": {
    "colab": {},
    "colab_type": "code",
    "deletable": false,
    "id": "DohE_X8-3zwG",
    "jupyter": {
     "outputs_hidden": true
    },
    "nbgrader": {
     "cell_type": "code",
     "checksum": "bb4b410df89f94f438f27ad5cc83b57e",
     "grade": false,
     "grade_id": "cell-89c0640996913055",
     "locked": false,
     "schema_version": 3,
     "solution": true,
     "task": false
    }
   },
   "outputs": [],
   "source": [
    "### 0.25 Marks\n",
    "def sigmoid(z):\n",
    "    \"\"\"\n",
    "    Inputs:\n",
    "        z : z can either be a number or a numpy array\n",
    "    Outputs:\n",
    "        Sigmoid function applied to z; if z is an array, the function must be applied to its each element\n",
    "    \"\"\"\n",
    "    # YOUR CODE HERE\n",
    "    raise NotImplementedError()"
   ]
  },
  {
   "cell_type": "code",
   "execution_count": null,
   "metadata": {
    "deletable": false,
    "editable": false,
    "nbgrader": {
     "cell_type": "code",
     "checksum": "c7237d684be0f2bc75a0275f2aa4e47e",
     "grade": false,
     "grade_id": "cell-9cdd51c68ec54b2e",
     "locked": true,
     "schema_version": 3,
     "solution": false,
     "task": false
    }
   },
   "outputs": [],
   "source": [
    "# do not change code here\n",
    "### SAMPLE TEST CASE\n",
    "print(\"Running sample test case\")\n",
    "z = np.array([[-1.2, 2.0]])\n",
    "s_z = np.array([[0.23147522, 0.88079708]])\n",
    "assert np.allclose(s_z, sigmoid(z), atol = 1e-5)\n",
    "print(\"Sample test case passed\")"
   ]
  },
  {
   "cell_type": "code",
   "execution_count": null,
   "metadata": {
    "deletable": false,
    "editable": false,
    "nbgrader": {
     "cell_type": "code",
     "checksum": "fc120733c4f14ad850ffde8b6707d3c9",
     "grade": true,
     "grade_id": "cell-bd8753f0eb84a683",
     "locked": true,
     "points": 0.25,
     "schema_version": 3,
     "solution": false,
     "task": false
    }
   },
   "outputs": [],
   "source": [
    "# do not change code here\n",
    "# Hidden Test cases"
   ]
  },
  {
   "cell_type": "code",
   "execution_count": null,
   "metadata": {
    "colab": {},
    "colab_type": "code",
    "deletable": false,
    "id": "No8Zo23FR6Xx",
    "jupyter": {
     "outputs_hidden": true
    },
    "nbgrader": {
     "cell_type": "code",
     "checksum": "78f5c057aba7d5686e7c86bc1274708f",
     "grade": false,
     "grade_id": "cell-427ecb3fd8aa6923",
     "locked": false,
     "schema_version": 3,
     "solution": true,
     "task": false
    }
   },
   "outputs": [],
   "source": [
    "### 0.25 Marks\n",
    "def tanh(z):\n",
    "    \"\"\"\n",
    "    Inputs:\n",
    "        z : z can either be a number or a numpy array\n",
    "    Outputs:\n",
    "        Tanh function applied to z; if z is an array, the function must be applied to its each element\n",
    "    \"\"\"\n",
    "    # YOUR CODE HERE\n",
    "    raise NotImplementedError()"
   ]
  },
  {
   "cell_type": "code",
   "execution_count": null,
   "metadata": {
    "deletable": false,
    "editable": false,
    "nbgrader": {
     "cell_type": "code",
     "checksum": "42e7c8e73783b4554750a743d9b65b81",
     "grade": false,
     "grade_id": "cell-358b265d01633ac6",
     "locked": true,
     "schema_version": 3,
     "solution": false,
     "task": false
    }
   },
   "outputs": [],
   "source": [
    "# do not change code here\n",
    "### SAMPLE TEST CASE\n",
    "print(\"Running sample test case\")\n",
    "z = np.array([[-1.2, 2.0]])\n",
    "t_z = np.array([[-0.83365461,  0.96402758]])\n",
    "assert np.allclose(t_z, tanh(z), atol = 1e-5)\n",
    "print(\"Sample test case passed\")"
   ]
  },
  {
   "cell_type": "code",
   "execution_count": null,
   "metadata": {
    "deletable": false,
    "editable": false,
    "nbgrader": {
     "cell_type": "code",
     "checksum": "edd0ab26804a0067a72482804cb8cd46",
     "grade": true,
     "grade_id": "cell-52badad0eb7702ca",
     "locked": true,
     "points": 0.25,
     "schema_version": 3,
     "solution": false,
     "task": false
    }
   },
   "outputs": [],
   "source": [
    "# do not change code here\n",
    "# Hidden Test cases"
   ]
  },
  {
   "cell_type": "code",
   "execution_count": null,
   "metadata": {
    "colab": {},
    "colab_type": "code",
    "deletable": false,
    "id": "lTDIz1vXShpi",
    "jupyter": {
     "outputs_hidden": true
    },
    "nbgrader": {
     "cell_type": "code",
     "checksum": "5d6b06ef69d7137f6c32efc10c91a702",
     "grade": false,
     "grade_id": "cell-fd3ccaf5ddd37d72",
     "locked": false,
     "schema_version": 3,
     "solution": true,
     "task": false
    }
   },
   "outputs": [],
   "source": [
    "### 0.25 Marks\n",
    "def leaky_relu(z, alpha=0.1):\n",
    "    \"\"\"\n",
    "    Inputs:\n",
    "        z : z can either be a number or a numpy array\n",
    "        alpha - A hyperparameter\n",
    "    Outputs:\n",
    "        Leaky ReLU function applied to z; if z is an array, the function must be applied to its each element\n",
    "    \"\"\"\n",
    "    # YOUR CODE HERE\n",
    "    raise NotImplementedError()"
   ]
  },
  {
   "cell_type": "code",
   "execution_count": null,
   "metadata": {
    "deletable": false,
    "editable": false,
    "nbgrader": {
     "cell_type": "code",
     "checksum": "044d672ff04060d9202949eaab07591e",
     "grade": false,
     "grade_id": "cell-9e21dffde75b6127",
     "locked": true,
     "schema_version": 3,
     "solution": false,
     "task": false
    }
   },
   "outputs": [],
   "source": [
    "# do not change code here\n",
    "### SAMPLE TEST CASE\n",
    "print(\"Running sample test case\")\n",
    "z = np.array([[-1.2, 2.0]])\n",
    "lr_z = np.array([[-0.12,  2.  ]])\n",
    "assert np.allclose(lr_z, leaky_relu(z), atol = 1e-5)\n",
    "print(\"Sample test case passed\")"
   ]
  },
  {
   "cell_type": "code",
   "execution_count": null,
   "metadata": {
    "deletable": false,
    "editable": false,
    "nbgrader": {
     "cell_type": "code",
     "checksum": "93d32db5d30a64e5e933a9db4896d1ed",
     "grade": true,
     "grade_id": "cell-602516c3c4311541",
     "locked": true,
     "points": 0.25,
     "schema_version": 3,
     "solution": false,
     "task": false
    }
   },
   "outputs": [],
   "source": [
    "# do not change code here\n",
    "# Hidden Test cases"
   ]
  },
  {
   "cell_type": "code",
   "execution_count": null,
   "metadata": {
    "colab": {},
    "colab_type": "code",
    "deletable": false,
    "id": "2pV1EmAWTBaI",
    "jupyter": {
     "outputs_hidden": true
    },
    "nbgrader": {
     "cell_type": "code",
     "checksum": "f48320af3bad880227438f6893449827",
     "grade": false,
     "grade_id": "cell-6d90ee90a1f4a889",
     "locked": false,
     "schema_version": 3,
     "solution": true,
     "task": false
    }
   },
   "outputs": [],
   "source": [
    "### 0.25 Marks\n",
    "def softplus(z):\n",
    "    \"\"\"\n",
    "    Inputs:\n",
    "        z : z can either be a number or a numpy array\n",
    "    Outputs:\n",
    "        Softplus function applied to z; if z is an array, the function must be applied to its each element\n",
    "    \"\"\"\n",
    "    # YOUR CODE HERE\n",
    "    raise NotImplementedError()"
   ]
  },
  {
   "cell_type": "code",
   "execution_count": null,
   "metadata": {
    "deletable": false,
    "editable": false,
    "nbgrader": {
     "cell_type": "code",
     "checksum": "4b99a59e4f18f4efa6249650893eda6b",
     "grade": false,
     "grade_id": "cell-433ac71990b48ea4",
     "locked": true,
     "schema_version": 3,
     "solution": false,
     "task": false
    }
   },
   "outputs": [],
   "source": [
    "# do not change code here\n",
    "### SAMPLE TEST CASE\n",
    "print(\"Running sample test case\")\n",
    "z = np.array([[-1.2, 2.0]])\n",
    "st_z = np.array([[0.26328247, 2.12692801]])\n",
    "assert np.allclose(st_z, softplus(z), atol = 1e-5)\n",
    "print(\"Sample test case passed\")"
   ]
  },
  {
   "cell_type": "code",
   "execution_count": null,
   "metadata": {
    "deletable": false,
    "editable": false,
    "nbgrader": {
     "cell_type": "code",
     "checksum": "991767dc237bcd90ac4156640b74d041",
     "grade": true,
     "grade_id": "cell-90d8f87a61a171b4",
     "locked": true,
     "points": 0.25,
     "schema_version": 3,
     "solution": false,
     "task": false
    }
   },
   "outputs": [],
   "source": [
    "# do not change code here\n",
    "# Hidden Test cases"
   ]
  },
  {
   "cell_type": "code",
   "execution_count": null,
   "metadata": {
    "colab": {},
    "colab_type": "code",
    "deletable": false,
    "id": "0_ln20_BTTjd",
    "jupyter": {
     "outputs_hidden": true
    },
    "nbgrader": {
     "cell_type": "code",
     "checksum": "90a3835670e5936b56d6813e0a735ffe",
     "grade": false,
     "grade_id": "cell-9014616c5df3a769",
     "locked": false,
     "schema_version": 3,
     "solution": true,
     "task": false
    }
   },
   "outputs": [],
   "source": [
    "### 0.50 Marks\n",
    "def ELU(z, alpha=0.1):\n",
    "    \"\"\"\n",
    "    Inputs:\n",
    "        z : z can either be a number or a numpy array\n",
    "        alpha - A hyperparameter\n",
    "    Outputs:\n",
    "        Exponential Linear Unit function applied to z; if z is an array, the function must be applied to its each element\n",
    "    \"\"\"\n",
    "    # YOUR CODE HERE\n",
    "    raise NotImplementedError()"
   ]
  },
  {
   "cell_type": "code",
   "execution_count": null,
   "metadata": {
    "deletable": false,
    "editable": false,
    "nbgrader": {
     "cell_type": "code",
     "checksum": "9094dbac679477c42cc82a2708003356",
     "grade": false,
     "grade_id": "cell-e73fc5b4fd81172a",
     "locked": true,
     "schema_version": 3,
     "solution": false,
     "task": false
    }
   },
   "outputs": [],
   "source": [
    "# do not change code here\n",
    "### SAMPLE TEST CASE\n",
    "print(\"Running sample test case\")\n",
    "z = np.array([[-1.2, 2.0]])\n",
    "e_z = np.array([[-0.06988058,  2.]])\n",
    "assert np.allclose(e_z, ELU(z), atol = 1e-5)\n",
    "print(\"Sample test case passed\")"
   ]
  },
  {
   "cell_type": "code",
   "execution_count": null,
   "metadata": {
    "deletable": false,
    "editable": false,
    "nbgrader": {
     "cell_type": "code",
     "checksum": "9c01e2a06525a630364925f8cd7f4a46",
     "grade": true,
     "grade_id": "cell-55d36e5d78a3ff5c",
     "locked": true,
     "points": 0.5,
     "schema_version": 3,
     "solution": false,
     "task": false
    }
   },
   "outputs": [],
   "source": [
    "# do not change code here\n",
    "# Hidden Test cases"
   ]
  },
  {
   "cell_type": "markdown",
   "metadata": {
    "colab_type": "text",
    "deletable": false,
    "editable": false,
    "id": "V5Ra7A4ep1Hi",
    "nbgrader": {
     "cell_type": "markdown",
     "checksum": "eb630fed2c726379a35e50296877502d",
     "grade": false,
     "grade_id": "cell-141275b2072477f7",
     "locked": true,
     "schema_version": 3,
     "solution": false,
     "task": false
    }
   },
   "source": [
    "### 4- Initialize Weights of the Neural Network/ Construct H-layer Neural Network (0.5 Marks):\n",
    "\n",
    "*   The NN will contain $H-1$ hidden layers and an output layer. For a layer $h$, we will have two parameters/variables:\n",
    "  * Weight matrix $W^{[h]}$(of shape (size of current layer, size of previous layer)),\n",
    "  * Bias vector $b^{[h]}$(of shape (size of current layer, 1)),  \n",
    "\n",
    "*   Use np.random.uniform(low, high, shape), with low=0.0 and high=0.01 to initialize the weights $W^{[h]}$ (<a href=\"https://docs.scipy.org/doc/numpy-1.15.0/reference/generated/numpy.random.uniform.html#numpy-random-uniform\">np.random.uniform()</a>).\n",
    "\n",
    "*   Initialize biases $b^{[h]}$ with zeros (<a href=\"https://docs.scipy.org/doc/numpy/reference/generated/numpy.zeros.html\">np.zeros()</a>).\n",
    "\n",
    "* For a single-hidden layer NN with input of size 5, hidden layer size = 4 and output layer size =3, the input parameter ```layers_sizes``` will be **[5, 4, 3]**. The output of the ```construct_NN()``` function will be  **```[[np.array(shape=(4, 5)), np.array(shape=(4, 1))], [np.array(shape=(3, 4)), np.array(shape=(3, 1))]]```**, with each numpy array initialised as mentioned above.\n",
    "\n",
    "\n",
    "  \n"
   ]
  },
  {
   "cell_type": "code",
   "execution_count": null,
   "metadata": {
    "colab": {},
    "colab_type": "code",
    "deletable": false,
    "id": "XnhdOy-ZnNks",
    "jupyter": {
     "outputs_hidden": true
    },
    "nbgrader": {
     "cell_type": "code",
     "checksum": "b1bad5a9f67aca1844f53af8a94ba3c6",
     "grade": false,
     "grade_id": "cell-c1bf86aa64085f2d",
     "locked": false,
     "schema_version": 3,
     "solution": true,
     "task": false
    }
   },
   "outputs": [],
   "source": [
    "### 0.50 Marks\n",
    "def construct_NN(layers_sizes):\n",
    "    \"\"\"\n",
    "    Inputs:\n",
    "        layers_sizes - A list (of length H+1) containing the size (number of neurons) of each layer. Element at index 0 represents input layer size.  \n",
    "    Outputs:\n",
    "        weights - A list (of length H), where each element is a list - [Wh, bh], representing the  weights matrix and bias vector of layer h (Both Wh and bh are numpy arrays).\n",
    "    \"\"\"\n",
    "    H = len(layers_sizes)-1\n",
    "    weights = []\n",
    "    for h in range(H):\n",
    "        # Append weights of h-th layer to \"weights\" list in the manner specified above.\n",
    "        # YOUR CODE HERE\n",
    "        raise NotImplementedError()\n",
    "    return weights "
   ]
  },
  {
   "cell_type": "code",
   "execution_count": null,
   "metadata": {
    "colab": {
     "base_uri": "https://localhost:8080/",
     "height": 52
    },
    "colab_type": "code",
    "deletable": false,
    "editable": false,
    "id": "FOjXEqd6JPwX",
    "nbgrader": {
     "cell_type": "code",
     "checksum": "3a7ee75d64a15f156e9832d90ebe1b54",
     "grade": false,
     "grade_id": "cell-58780b28f3f6c0e7",
     "locked": true,
     "schema_version": 3,
     "solution": false,
     "task": false
    },
    "outputId": "b9ae5c3e-7fd5-4016-bba9-97b9c6c559e7"
   },
   "outputs": [],
   "source": [
    "# do not change code here\n",
    "### SAMPLE TEST CASE\n",
    "print(\"Running sample test case\")\n",
    "np.random.seed(1)\n",
    "weights = construct_NN([4, 2, 1])\n",
    "assert np.allclose(weights[0][0], np.array([[4.17022005e-03, 7.20324493e-03, 1.14374817e-06, 3.02332573e-03],\n",
    " [1.46755891e-03, 9.23385948e-04, 1.86260211e-03, 3.45560727e-03]]), atol = 1e-5)\n",
    "assert np.allclose(weights[0][1], np.array([[0.], [0.]]), atol = 1e-5)\n",
    "assert np.allclose(weights[1][0], np.array([[0.00396767, 0.00538817]]), atol = 1e-5)\n",
    "assert np.allclose(weights[1][1], np.array([[0.]]), atol = 1e-5)\n",
    "print(\"Sample test case passed\")"
   ]
  },
  {
   "cell_type": "code",
   "execution_count": null,
   "metadata": {
    "colab": {},
    "colab_type": "code",
    "deletable": false,
    "editable": false,
    "id": "wuVFpc6TJPlb",
    "jupyter": {
     "outputs_hidden": true
    },
    "nbgrader": {
     "cell_type": "code",
     "checksum": "431b48eeaceca7448d01daf1a1e83cbf",
     "grade": true,
     "grade_id": "cell-92e465e4bbf4748d",
     "locked": true,
     "points": 0.5,
     "schema_version": 3,
     "solution": false,
     "task": false
    }
   },
   "outputs": [],
   "source": [
    "# do not change code here\n",
    "# Hidden Test cases"
   ]
  },
  {
   "cell_type": "markdown",
   "metadata": {
    "colab_type": "text",
    "deletable": false,
    "editable": false,
    "id": "mKoBKxqg2AJH",
    "nbgrader": {
     "cell_type": "markdown",
     "checksum": "88bedf2c144209d4470b37c7e4bb2a51",
     "grade": false,
     "grade_id": "cell-d151e957cc348e09",
     "locked": true,
     "schema_version": 3,
     "solution": false,
     "task": false
    }
   },
   "source": [
    "### 5- Forward Propagation (1 Mark):\n"
   ]
  },
  {
   "cell_type": "markdown",
   "metadata": {
    "colab_type": "text",
    "deletable": false,
    "editable": false,
    "id": "oRUyxFL5Hqan",
    "nbgrader": {
     "cell_type": "markdown",
     "checksum": "48a4f46cc22b41a3af22c9a78128ac55",
     "grade": false,
     "grade_id": "cell-4c851af8783f8b4c",
     "locked": true,
     "schema_version": 3,
     "solution": false,
     "task": false
    }
   },
   "source": [
    "#### 5.1- Forward Propagation Step (0.25 Marks):\n",
    "This function carries out computations of a single layer of the neural network:\n",
    " $$ Z^{[h]} = W^{[h]}.A^{[h-1]}+b^{[h]}$$\n",
    " $$ A^{[h]} = g^{[h]}(Z^{[h]}) $$"
   ]
  },
  {
   "cell_type": "code",
   "execution_count": null,
   "metadata": {
    "colab": {},
    "colab_type": "code",
    "deletable": false,
    "id": "o67n7ba42IFp",
    "jupyter": {
     "outputs_hidden": true
    },
    "nbgrader": {
     "cell_type": "code",
     "checksum": "4b4b7a9873c9d6e0ade919027fe615ec",
     "grade": false,
     "grade_id": "cell-f06eca0a9520b68c",
     "locked": false,
     "schema_version": 3,
     "solution": true,
     "task": false
    }
   },
   "outputs": [],
   "source": [
    "### 0.25 Marks\n",
    "def forward_step(A_prev, W, b, activation, alpha=0.1):\n",
    "    \"\"\"\n",
    "    Inputs:\n",
    "        A_prev - Input data OR Previous layer's activations of shape (size of previous layer, number of examples)\n",
    "        W - Weight matrix of shape (size of current layer, size of previous layer)\n",
    "        b - Bias vector of shape (size of the current layer, 1)\n",
    "        activation - Python string denoting the activation function to be used in the current layer \n",
    "        alpha - A hyperparameter for activation functions leaky_relu and ELU.\n",
    "    Outputs :\n",
    "        A - Current layer's activations of shape (size of current layer, number of examples)\n",
    "        Z - Current layer's pre activation value, i.e. input of activation function\n",
    "    \"\"\"\n",
    "    # Compute Z as defined above.\n",
    "    # YOUR CODE HERE\n",
    "    raise NotImplementedError()\n",
    "    if activation == \"relu\":\n",
    "        A = relu(Z)\n",
    "    elif activation == \"sigmoid\":\n",
    "        A = sigmoid(Z)\n",
    "    elif activation == \"tanh\":\n",
    "        A = tanh(Z)\n",
    "    elif activation == \"leaky_relu\":\n",
    "        A = leaky_relu(Z, alpha)\n",
    "    elif activation == \"softplus\":\n",
    "        A = softplus(Z)\n",
    "    elif activation == \"ELU\":\n",
    "        A = ELU(Z, alpha)\n",
    "    else: # Linear activation\n",
    "        A = linear(Z)\n",
    "    return A, Z"
   ]
  },
  {
   "cell_type": "code",
   "execution_count": null,
   "metadata": {
    "colab": {
     "base_uri": "https://localhost:8080/",
     "height": 52
    },
    "colab_type": "code",
    "deletable": false,
    "editable": false,
    "id": "uGo3shOoOpAY",
    "nbgrader": {
     "cell_type": "code",
     "checksum": "191df4613d66600a66d993fecb513788",
     "grade": false,
     "grade_id": "cell-86031c5eb47c7583",
     "locked": true,
     "schema_version": 3,
     "solution": false,
     "task": false
    },
    "outputId": "058794ae-ae28-4b1d-ab90-ebb7a7f44434"
   },
   "outputs": [],
   "source": [
    "# do not change code here\n",
    "### SAMPLE TEST CASE\n",
    "print(\"Running sample test case\")\n",
    "np.random.seed(0)\n",
    "A_prev = np.random.randn(3,2)\n",
    "W = np.random.randn(1,3)\n",
    "b = np.random.randn(1,1)\n",
    "_, Z = forward_step(A_prev, W, b, \"linear\")\n",
    "assert np.allclose(Z, np.array([[1.74569796, 0.55248139]]), atol=1e-5)\n",
    "print(\"Sample test case passed\")"
   ]
  },
  {
   "cell_type": "code",
   "execution_count": null,
   "metadata": {
    "colab": {},
    "colab_type": "code",
    "deletable": false,
    "editable": false,
    "id": "fJcUYINIOo4G",
    "jupyter": {
     "outputs_hidden": true
    },
    "nbgrader": {
     "cell_type": "code",
     "checksum": "a70a3c8b7c1264c04127dcb237378562",
     "grade": true,
     "grade_id": "cell-27c4ec252caf4119",
     "locked": true,
     "points": 0.25,
     "schema_version": 3,
     "solution": false,
     "task": false
    }
   },
   "outputs": [],
   "source": [
    "# do not change code here\n",
    "# Hidden Test cases"
   ]
  },
  {
   "cell_type": "markdown",
   "metadata": {
    "colab_type": "text",
    "deletable": false,
    "editable": false,
    "id": "yuppHoprLU3z",
    "nbgrader": {
     "cell_type": "markdown",
     "checksum": "b3c98bb7a8b514743a76c6458b17c53c",
     "grade": false,
     "grade_id": "cell-7df9441085963ea4",
     "locked": true,
     "schema_version": 3,
     "solution": false,
     "task": false
    }
   },
   "source": [
    "#### 5.2- Forward Propagation Module (0.75 Marks):\n",
    "* This function iterates over the $H$ layers of the neural network using a for loop, computing the final output of the neural network. \n",
    "* It also outputs a ```layers_cache``` list (of length H), whose each element corresponds to a layer $h$ and is a list[$A^{[h-1]}, W^{[h]}, Z^{[h]}$]. Storing these values now will be helpful while computing gradients n the backward pass.\n",
    "* For the sake of clarity, consider a single-hidden layer NN with input of size 5, hidden layer size = 4 and output layer size =3. For this example, the output ```layers_cache``` list will be [[$X or A^{[0]}$, $W^{[1]}$, $Z^{[1]}$], [$A^{[1]}$, $W^{[2]}$, $Z^{[2]}$]]."
   ]
  },
  {
   "cell_type": "code",
   "execution_count": null,
   "metadata": {
    "colab": {},
    "colab_type": "code",
    "deletable": false,
    "id": "McFyqZKUBvVH",
    "jupyter": {
     "outputs_hidden": true
    },
    "nbgrader": {
     "cell_type": "code",
     "checksum": "a348c032bb9144c4c83d1900fec59aea",
     "grade": false,
     "grade_id": "cell-959d37cab861887e",
     "locked": false,
     "schema_version": 3,
     "solution": true,
     "task": false
    }
   },
   "outputs": [],
   "source": [
    "### 0.75 Marks\n",
    "def forward_module(X, weights, activations, alpha=0.1):\n",
    "    \"\"\"\n",
    "    Inputs:\n",
    "        X - Input data of shape (size of input layer, number of examples)\n",
    "        weights - A list (of length H), where each element is a list - [Wh, bh], representing the weights matrix and bias vector of layer h (Both Wh and bh are numpy arrays).\n",
    "        activations - A list (of length H), where each element is a Python string representing the activation function to be used in the corresponding layer\n",
    "        alpha - A hyperparameter for activation functions leaky_relu and ELU.\n",
    "    Outputs:\n",
    "        AH - Output layer's activations\n",
    "        layers_cache - A list (of length H), where each element is a list [A_prev, W, Z], representing the values A_prev (input to the layer), W (Weight matrix of the layer)\n",
    "            and Z (pre-activation value) for layer h. The purpose of cache is to store values that will be needed during backpropagation.\n",
    "    \"\"\"\n",
    "    layers_cache = []\n",
    "    H = len(weights)\n",
    "    A = X\n",
    "    for h in range(H):\n",
    "        # Hint : Call forward_step() with appropriate input parameters. Also append to layers_cache.\n",
    "        # YOUR CODE HERE\n",
    "        raise NotImplementedError()\n",
    "    \n",
    "    return A, layers_cache"
   ]
  },
  {
   "cell_type": "code",
   "execution_count": null,
   "metadata": {
    "colab": {
     "base_uri": "https://localhost:8080/",
     "height": 52
    },
    "colab_type": "code",
    "deletable": false,
    "editable": false,
    "id": "UPTz4NkYR4F1",
    "nbgrader": {
     "cell_type": "code",
     "checksum": "301fb55e5054529e99b0c26dc842f54b",
     "grade": false,
     "grade_id": "cell-e75e8eb33c4fdb0e",
     "locked": true,
     "schema_version": 3,
     "solution": false,
     "task": false
    },
    "outputId": "ac294d56-1989-40ca-ec03-9be233ee6e57"
   },
   "outputs": [],
   "source": [
    "# do not change code here\n",
    "### SAMPLE TEST CASE\n",
    "print(\"Running sample test case\")\n",
    "np.random.seed(2)\n",
    "X = np.random.randn(3,2)\n",
    "W1 = np.random.randn(2,3)\n",
    "b1 = np.random.randn(2,1)\n",
    "W2 = np.random.randn(1,2)\n",
    "b2 = np.random.randn(1,1)\n",
    "weights = [[W1, b1], [W2, b2]]\n",
    "activations = [\"relu\", \"sigmoid\"]\n",
    "A, layers_cache = forward_module(X, weights, activations)\n",
    "assert np.allclose(A, np.array([[0.91270109, 0.49521752]]), atol=1e-5)\n",
    "assert np.allclose(layers_cache[0][0], np.array([[-0.41675785, -0.05626683],\n",
    "       [-2.1361961 ,  1.64027081],\n",
    "       [-1.79343559, -0.84174737]]), atol=1e-5)\n",
    "assert np.allclose(layers_cache[0][1], np.array([[ 0.50288142, -1.24528809, -1.05795222],\n",
    "       [-0.90900761,  0.55145404,  2.29220801]]), atol=1e-5)\n",
    "assert np.allclose(layers_cache[0][2], np.array([[ 4.38950832, -1.13883735],\n",
    "       [-6.02803078, -2.09170456]]), atol=1e-5)\n",
    "assert np.allclose(layers_cache[1][0], np.array([[4.38950832, 0.        ],\n",
    "       [0.        , 0.        ]]), atol=1e-5)\n",
    "assert np.allclose(layers_cache[1][1], np.array([[ 0.53905832, -0.5961597 ]]), atol=1e-5)\n",
    "assert np.allclose(layers_cache[1][2], np.array([[ 2.34707049, -0.0191305 ]]), atol=1e-5)\n",
    "print(\"Sample test case passed\")"
   ]
  },
  {
   "cell_type": "code",
   "execution_count": null,
   "metadata": {
    "colab": {},
    "colab_type": "code",
    "deletable": false,
    "editable": false,
    "id": "DToX-y57R37A",
    "jupyter": {
     "outputs_hidden": true
    },
    "nbgrader": {
     "cell_type": "code",
     "checksum": "fe1d55407847cd625029ba0017566e91",
     "grade": true,
     "grade_id": "cell-289f5f3b38ca96cc",
     "locked": true,
     "points": 0.75,
     "schema_version": 3,
     "solution": false,
     "task": false
    }
   },
   "outputs": [],
   "source": [
    "# do not change code here\n",
    "# Hidden Test cases"
   ]
  },
  {
   "cell_type": "markdown",
   "metadata": {
    "colab_type": "text",
    "deletable": false,
    "editable": false,
    "id": "eL9lQqMr1CSE",
    "nbgrader": {
     "cell_type": "markdown",
     "checksum": "a90047deab3deb9efe8068943b1deaf6",
     "grade": false,
     "grade_id": "cell-779d67c8e92d5063",
     "locked": true,
     "schema_version": 3,
     "solution": false,
     "task": false
    }
   },
   "source": [
    "### 6- Cost Function (0.5 Marks):\n",
    "You can compute the cross-entropy cost using the following formula: $$-\\frac{1}{m} \\sum\\limits_{i = 1}^{m} (y^{(i)}*\\log\\left(a^{[H] (i)}\\right) + (1-y^{(i)})*\\log\\left(1- a^{[H](i)}\\right))$$\n",
    "where  \n",
    "$$m = number \\ of \\ examples$$\n",
    "$$ y^{(i)} = Ground \\ truth \\ labels \\ for \\ i-th \\ example $$\n",
    "$$ a^{[H](i)} = Output \\ layer \\ activations \\ for \\ i-th \\ example $$\n",
    "$$ * \\ denotes \\ elementwise \\ multiplication $$\n",
    "\n",
    "Below is a plot of the loss function, where $t$ denotes ground truth label and $y$ denotes the predicted label.\n",
    "\n",
    "<center><img src=\"cross_entropy_plot.png\" width=\"350\" height=\"350\"></center>"
   ]
  },
  {
   "cell_type": "code",
   "execution_count": null,
   "metadata": {
    "colab": {},
    "colab_type": "code",
    "deletable": false,
    "id": "7JZRKq9dRIL0",
    "jupyter": {
     "outputs_hidden": true
    },
    "nbgrader": {
     "cell_type": "code",
     "checksum": "db889b0fad3840897eec3fd3f1812138",
     "grade": false,
     "grade_id": "cell-6d27debe15051a53",
     "locked": false,
     "schema_version": 3,
     "solution": true,
     "task": false
    }
   },
   "outputs": [],
   "source": [
    "### 0.5 Marks\n",
    "def cross_entropy_cost(AH, Y):\n",
    "    \"\"\"\n",
    "    Inputs:\n",
    "        AH - Activations of output layer, representing probability vector corresponding to your label predictions, of shape (1, number of examples)\n",
    "        Y - Ground truth \"label\" vector of shape (1, number of examples)\n",
    "    Outputs:\n",
    "        cost - Cross Entropy cost, of shape () i.e. scalar value\n",
    "    \"\"\"\n",
    "    # Compute cross entropy cost function in the variable 'cost'\n",
    "    # YOUR CODE HERE\n",
    "    raise NotImplementedError()\n",
    "    \n",
    "    return cost"
   ]
  },
  {
   "cell_type": "code",
   "execution_count": null,
   "metadata": {
    "colab": {
     "base_uri": "https://localhost:8080/",
     "height": 52
    },
    "colab_type": "code",
    "deletable": false,
    "editable": false,
    "id": "-uhjzdypeMy0",
    "nbgrader": {
     "cell_type": "code",
     "checksum": "a424a8860d55cf3a7bd8dfac9c985a4f",
     "grade": false,
     "grade_id": "cell-80f81ae4f3a1fb0f",
     "locked": true,
     "schema_version": 3,
     "solution": false,
     "task": false
    },
    "outputId": "191888d4-d453-4ecb-95c5-309accea92af"
   },
   "outputs": [],
   "source": [
    "# do not change code here\n",
    "### SAMPLE TEST CASE\n",
    "print(\"Running sample test case\")\n",
    "AH = np.array([[0.6, 0.9, 0.4, 0.1]])\n",
    "Y = np.asarray([[1, 1, 1, 0]])\n",
    "cost = cross_entropy_cost(AH, Y)\n",
    "assert np.allclose(cost, 0.40945934673894957, atol=1e-5)\n",
    "print(\"Sample test case passed\")"
   ]
  },
  {
   "cell_type": "code",
   "execution_count": null,
   "metadata": {
    "colab": {},
    "colab_type": "code",
    "deletable": false,
    "editable": false,
    "id": "LaUj80pleMsT",
    "jupyter": {
     "outputs_hidden": true
    },
    "nbgrader": {
     "cell_type": "code",
     "checksum": "71d705600c50e09ce932e71e7e1cf55d",
     "grade": true,
     "grade_id": "cell-6397d2ba54db427c",
     "locked": true,
     "points": 0.5,
     "schema_version": 3,
     "solution": false,
     "task": false
    }
   },
   "outputs": [],
   "source": [
    "# do not change code here\n",
    "# Hidden Test cases"
   ]
  },
  {
   "cell_type": "markdown",
   "metadata": {
    "colab_type": "text",
    "deletable": false,
    "editable": false,
    "id": "0r2JlkCIVvs2",
    "nbgrader": {
     "cell_type": "markdown",
     "checksum": "63a064773769df3ce2a858ddf90f6d56",
     "grade": false,
     "grade_id": "cell-6fa18cdf415f912a",
     "locked": true,
     "schema_version": 3,
     "solution": false,
     "task": false
    }
   },
   "source": [
    "### 7- Backward Propagation (6 Marks):\n",
    "Backpropagation is used to calculate the gradient of the loss function with respect to the weights. "
   ]
  },
  {
   "cell_type": "markdown",
   "metadata": {
    "colab_type": "text",
    "deletable": false,
    "editable": false,
    "id": "psO6Bh3iolzL",
    "nbgrader": {
     "cell_type": "markdown",
     "checksum": "91b2386388d6588dc01eb87ee59158d4",
     "grade": false,
     "grade_id": "cell-fbb9e74a28d6fd31",
     "locked": true,
     "schema_version": 3,
     "solution": false,
     "task": false
    }
   },
   "source": [
    "#### 7.1- Activation Backward Propagation (3.5 Marks):\n",
    "This function computes  $dZ^{[h]} = \\frac{\\partial \\mathcal{L} }{\\partial Z^{[h]}}$, given  $dA^{[h]} = \\frac{\\partial \\mathcal{L} }{\\partial A^{[h]}}$ and $Z^{[h]}$as inputs. It is based on the following chain rule from calculus:\n",
    "$$ dZ^{[h]} = dA^{[h]} * \\frac{\\partial \\mathcal{A^{[h]}} }{\\partial Z^{[h]}}$$\n",
    "\n",
    "Note the following rules for different activation functions:\n",
    "$$ \\frac{\\partial \\mathcal{(relu(z))} }{\\partial z} =   \\left\\{\n",
    "\\begin{array}{ll}\n",
    "      1 & z>=0 \\\\\n",
    "      0& z < 0 \\\\\n",
    "\\end{array} \n",
    "\\right.  $$\n",
    "$$\\frac{\\partial \\mathcal{(sigmoid(z))} }{\\partial z} = sigmoid(z) * (1-sigmoid(z))$$\n",
    "$$\\frac{\\partial \\mathcal{(tanh(z))} }{\\partial z} = 1-tanh(z)*tanh(z)$$\n",
    "$$ \\frac{\\partial \\mathcal{(leaky\\_relu(z))} }{\\partial z} =   \\left\\{\n",
    "\\begin{array}{ll}\n",
    "      1 & z>=0 \\\\\n",
    "      \\alpha& z < 0 \\\\\n",
    "\\end{array} \n",
    "\\right.  $$\n",
    "$$\\frac{\\partial \\mathcal{(softplus(z))} }{\\partial z} = sigmoid(z) $$\n",
    "$$ \\frac{\\partial \\mathcal{(ELU(z))} }{\\partial z} =   \\left\\{\n",
    "\\begin{array}{ll}\n",
    "      1 & z>=0 \\\\\n",
    "      \\alpha*e^{z}& z < 0 \\\\\n",
    "\\end{array} \n",
    "\\right.  $$\n",
    "\n",
    "Hints:\n",
    "* You may find ```copy``` argument of np.array() to be useful(<a href=\"https://docs.scipy.org/doc/numpy/reference/generated/numpy.array.html\">numpy.array()</a>).\n",
    "* You may find NumPy Masking an useful concept while implementing some of the below functions (<a href=\"https://jakevdp.github.io/PythonDataScienceHandbook/02.06-boolean-arrays-and-masks.html#Boolean-Arrays-as-Masks\">NumPy Masking</a>)."
   ]
  },
  {
   "cell_type": "code",
   "execution_count": null,
   "metadata": {
    "colab": {},
    "colab_type": "code",
    "deletable": false,
    "id": "PEuP5kox6-lf",
    "jupyter": {
     "outputs_hidden": true
    },
    "nbgrader": {
     "cell_type": "code",
     "checksum": "e3b7fcfb6bf034beeb5c32f833585f9e",
     "grade": false,
     "grade_id": "cell-6d112a009f419516",
     "locked": false,
     "schema_version": 3,
     "solution": true,
     "task": false
    }
   },
   "outputs": [],
   "source": [
    "### 0.5 Marks\n",
    "def linear_backward(dA, Z):\n",
    "    \"\"\"\n",
    "    Inputs:\n",
    "        dA - Gradient of the cost function w.r.t. the post activation value A, of shape(size of current layer, number of examples)\n",
    "        Z - Pre activation value, of shape(size of current layer, number of examples)\n",
    "    Outputs:\n",
    "        dZ - Gradient of the cost function w.r.t. Z, of shape(size of current layer, number of examples)\n",
    "    \"\"\"\n",
    "    # Compute dZ\n",
    "    # YOUR CODE HERE\n",
    "    raise NotImplementedError()\n",
    "    return dZ"
   ]
  },
  {
   "cell_type": "code",
   "execution_count": null,
   "metadata": {
    "deletable": false,
    "editable": false,
    "nbgrader": {
     "cell_type": "code",
     "checksum": "9a151d6786752049c08ddebe812659b2",
     "grade": false,
     "grade_id": "cell-df72b2f6471f40c6",
     "locked": true,
     "schema_version": 3,
     "solution": false,
     "task": false
    }
   },
   "outputs": [],
   "source": [
    "# do not change code here\n",
    "### SAMPLE TEST CASE\n",
    "print(\"Running sample test case\")\n",
    "np.random.seed(7)\n",
    "dA = np.random.randn(1,2)\n",
    "Z = np.random.randn(1,2)\n",
    "l_dZ = np.array([[ 1.6905257,  -0.46593737]])\n",
    "assert np.allclose(l_dZ, linear_backward(dA, Z), atol=1e-5)\n",
    "print(\"Sample test case passed\")"
   ]
  },
  {
   "cell_type": "code",
   "execution_count": null,
   "metadata": {
    "deletable": false,
    "editable": false,
    "nbgrader": {
     "cell_type": "code",
     "checksum": "68b8a032bbcfac8a84d73450fa613068",
     "grade": true,
     "grade_id": "cell-0002eb6941a7e20c",
     "locked": true,
     "points": 0.5,
     "schema_version": 3,
     "solution": false,
     "task": false
    }
   },
   "outputs": [],
   "source": [
    "# do not change code here\n",
    "# Hidden Test cases"
   ]
  },
  {
   "cell_type": "code",
   "execution_count": null,
   "metadata": {
    "colab": {},
    "colab_type": "code",
    "deletable": false,
    "id": "WRo-iTVb6-hE",
    "jupyter": {
     "outputs_hidden": true
    },
    "nbgrader": {
     "cell_type": "code",
     "checksum": "188f10b489a2fbed9f85578baeeb851f",
     "grade": false,
     "grade_id": "cell-e6f444238ea3c698",
     "locked": false,
     "schema_version": 3,
     "solution": true,
     "task": false
    }
   },
   "outputs": [],
   "source": [
    "### 0.5 Marks\n",
    "def relu_backward(dA, Z):\n",
    "    \"\"\"\n",
    "    Inputs:\n",
    "        dA - Gradient of the cost function w.r.t. the post activation value A, of shape(size of current layer, number of examples)\n",
    "        Z - Pre activation value, of shape(size of current layer, number of examples)\n",
    "    Outputs:\n",
    "        dZ - Gradient of the cost function w.r.t. Z, of shape(size of current layer, number of examples)\n",
    "    \"\"\"\n",
    "    # Compute dZ\n",
    "    # YOUR CODE HERE\n",
    "    raise NotImplementedError()\n",
    "    return dZ"
   ]
  },
  {
   "cell_type": "code",
   "execution_count": null,
   "metadata": {
    "deletable": false,
    "editable": false,
    "nbgrader": {
     "cell_type": "code",
     "checksum": "740c849a45a347656604560af2008ce3",
     "grade": false,
     "grade_id": "cell-6db88f5dc159c210",
     "locked": true,
     "schema_version": 3,
     "solution": false,
     "task": false
    }
   },
   "outputs": [],
   "source": [
    "# do not change code here\n",
    "### SAMPLE TEST CASE\n",
    "print(\"Running sample test case\")\n",
    "np.random.seed(7)\n",
    "dA = np.random.randn(1,2)\n",
    "Z = np.random.randn(1,2)\n",
    "r_dZ = np.array([[ 1.6905257,  -0.46593737]])\n",
    "assert np.allclose(r_dZ, relu_backward(dA, Z), atol=1e-5)\n",
    "print(\"Sample test case passed\")"
   ]
  },
  {
   "cell_type": "code",
   "execution_count": null,
   "metadata": {
    "deletable": false,
    "editable": false,
    "nbgrader": {
     "cell_type": "code",
     "checksum": "f1aca353764ff4635962d369d5616243",
     "grade": true,
     "grade_id": "cell-0f18ed800ca0ffb0",
     "locked": true,
     "points": 0.5,
     "schema_version": 3,
     "solution": false,
     "task": false
    }
   },
   "outputs": [],
   "source": [
    "# do not change code here\n",
    "# Hidden Test cases"
   ]
  },
  {
   "cell_type": "code",
   "execution_count": null,
   "metadata": {
    "colab": {},
    "colab_type": "code",
    "deletable": false,
    "id": "Q10_Gd4t6-aj",
    "jupyter": {
     "outputs_hidden": true
    },
    "nbgrader": {
     "cell_type": "code",
     "checksum": "961f6d370d31800eae5f6c6bf88fff75",
     "grade": false,
     "grade_id": "cell-13ad0c5972c542d5",
     "locked": false,
     "schema_version": 3,
     "solution": true,
     "task": false
    }
   },
   "outputs": [],
   "source": [
    "### 0.5 Marks\n",
    "def sigmoid_backward(dA, Z):\n",
    "    \"\"\"\n",
    "    Inputs:\n",
    "        dA - Gradient of the cost function w.r.t. the post activation value A, of shape(size of current layer, number of examples)\n",
    "        Z - Pre activation value, of shape(size of current layer, number of examples)\n",
    "    Outputs:\n",
    "        dZ - Gradient of the cost function w.r.t. Z, of shape(size of current layer, number of examples)\n",
    "    \"\"\"\n",
    "    # Compute dZ\n",
    "    # YOUR CODE HERE\n",
    "    raise NotImplementedError()\n",
    "    return dZ"
   ]
  },
  {
   "cell_type": "code",
   "execution_count": null,
   "metadata": {
    "deletable": false,
    "editable": false,
    "nbgrader": {
     "cell_type": "code",
     "checksum": "8736e83fbbf4dee270f57238dd54138d",
     "grade": false,
     "grade_id": "cell-9f2a28734ccbbfc7",
     "locked": true,
     "schema_version": 3,
     "solution": false,
     "task": false
    }
   },
   "outputs": [],
   "source": [
    "# do not change code here\n",
    "### SAMPLE TEST CASE\n",
    "print(\"Running sample test case\")\n",
    "np.random.seed(7)\n",
    "dA = np.random.randn(1,2)\n",
    "Z = np.random.randn(1,2)\n",
    "s_dZ = np.array([[ 0.42251764, -0.11177899]])\n",
    "assert np.allclose(s_dZ, sigmoid_backward(dA, Z), atol=1e-5)\n",
    "print(\"Sample test case passed\")"
   ]
  },
  {
   "cell_type": "code",
   "execution_count": null,
   "metadata": {
    "deletable": false,
    "editable": false,
    "nbgrader": {
     "cell_type": "code",
     "checksum": "b92030494d41aad60de59fc1bec3f9a3",
     "grade": true,
     "grade_id": "cell-beddd2c15d5314f5",
     "locked": true,
     "points": 0.5,
     "schema_version": 3,
     "solution": false,
     "task": false
    }
   },
   "outputs": [],
   "source": [
    "# do not change code here\n",
    "# Hidden Test cases"
   ]
  },
  {
   "cell_type": "code",
   "execution_count": null,
   "metadata": {
    "colab": {},
    "colab_type": "code",
    "deletable": false,
    "id": "sFnXRdKQ6-UG",
    "jupyter": {
     "outputs_hidden": true
    },
    "nbgrader": {
     "cell_type": "code",
     "checksum": "228fd10a2a2a830b6b3b70d5ddd9e328",
     "grade": false,
     "grade_id": "cell-a514cc92b868d5e0",
     "locked": false,
     "schema_version": 3,
     "solution": true,
     "task": false
    }
   },
   "outputs": [],
   "source": [
    "### 0.5 Marks\n",
    "def tanh_backward(dA, Z):\n",
    "    \"\"\"\n",
    "    Inputs:\n",
    "        dA - Gradient of the cost function w.r.t. the post activation value A, of shape(size of current layer, number of examples)\n",
    "        Z - Pre activation value, of shape(size of current layer, number of examples)\n",
    "    Outputs:\n",
    "        dZ - Gradient of the cost function w.r.t. Z, of shape(size of current layer, number of examples)\n",
    "    \"\"\"\n",
    "    # Compute dZ\n",
    "    # YOUR CODE HERE\n",
    "    raise NotImplementedError()\n",
    "    return dZ"
   ]
  },
  {
   "cell_type": "code",
   "execution_count": null,
   "metadata": {
    "deletable": false,
    "editable": false,
    "nbgrader": {
     "cell_type": "code",
     "checksum": "66cd9e3e7ca059077482ae7ebe2a37c3",
     "grade": false,
     "grade_id": "cell-7afc384db94453c1",
     "locked": true,
     "schema_version": 3,
     "solution": false,
     "task": false
    }
   },
   "outputs": [],
   "source": [
    "# do not change code here\n",
    "### SAMPLE TEST CASE\n",
    "print(\"Running sample test case\")\n",
    "np.random.seed(7)\n",
    "dA = np.random.randn(1,2)\n",
    "Z = np.random.randn(1,2)\n",
    "t_dZ = np.array([[ 1.68870604, -0.39638438]])\n",
    "assert np.allclose(t_dZ, tanh_backward(dA, Z), atol=1e-5)\n",
    "print(\"Sample test case passed\")"
   ]
  },
  {
   "cell_type": "code",
   "execution_count": null,
   "metadata": {
    "deletable": false,
    "editable": false,
    "nbgrader": {
     "cell_type": "code",
     "checksum": "5d7e1a412956de898f3356d227753a23",
     "grade": true,
     "grade_id": "cell-6a3bd98151b05f60",
     "locked": true,
     "points": 0.5,
     "schema_version": 3,
     "solution": false,
     "task": false
    }
   },
   "outputs": [],
   "source": [
    "# do not change code here\n",
    "# Hidden Test cases"
   ]
  },
  {
   "cell_type": "code",
   "execution_count": null,
   "metadata": {
    "colab": {},
    "colab_type": "code",
    "deletable": false,
    "id": "qq_8Y5vD6-PL",
    "jupyter": {
     "outputs_hidden": true
    },
    "nbgrader": {
     "cell_type": "code",
     "checksum": "02e852a70bf4d62a5f1c652daf585072",
     "grade": false,
     "grade_id": "cell-1a0b272ca6a5609e",
     "locked": false,
     "schema_version": 3,
     "solution": true,
     "task": false
    }
   },
   "outputs": [],
   "source": [
    "### 0.5 Marks\n",
    "def leaky_relu_backward(dA, Z, alpha=0.1):\n",
    "    \"\"\"\n",
    "    Inputs:\n",
    "        dA - Gradient of the cost function w.r.t. the post activation value A, of shape(size of current layer, number of examples)\n",
    "        Z - Pre activation value, of shape(size of current layer, number of examples)\n",
    "        alpha - A hyperparameter\n",
    "    Outputs:\n",
    "        dZ - Gradient of the cost function w.r.t. Z, of shape(size of current layer, number of examples)\n",
    "    \"\"\"\n",
    "    # Compute dZ\n",
    "    # YOUR CODE HERE\n",
    "    raise NotImplementedError()\n",
    "    return dZ"
   ]
  },
  {
   "cell_type": "code",
   "execution_count": null,
   "metadata": {
    "deletable": false,
    "editable": false,
    "nbgrader": {
     "cell_type": "code",
     "checksum": "44ef1d11f7ea1d2a5cade6b303618182",
     "grade": false,
     "grade_id": "cell-5e7672e6d0d90917",
     "locked": true,
     "schema_version": 3,
     "solution": false,
     "task": false
    }
   },
   "outputs": [],
   "source": [
    "# do not change code here\n",
    "### SAMPLE TEST CASE\n",
    "print(\"Running sample test case\")\n",
    "np.random.seed(7)\n",
    "dA = np.random.randn(1,2)\n",
    "Z = np.random.randn(1,2)\n",
    "lr_dZ = np.array([[ 1.6905257,  -0.46593737]])\n",
    "assert np.allclose(lr_dZ, leaky_relu_backward(dA, Z), atol=1e-5)\n",
    "print(\"Sample test case passed\")"
   ]
  },
  {
   "cell_type": "code",
   "execution_count": null,
   "metadata": {
    "deletable": false,
    "editable": false,
    "nbgrader": {
     "cell_type": "code",
     "checksum": "a1c0116b8a09c69cf1553c45bd812c7b",
     "grade": true,
     "grade_id": "cell-38da401f45edbbf7",
     "locked": true,
     "points": 0.5,
     "schema_version": 3,
     "solution": false,
     "task": false
    }
   },
   "outputs": [],
   "source": [
    "# do not change code here\n",
    "# Hidden Test cases"
   ]
  },
  {
   "cell_type": "code",
   "execution_count": null,
   "metadata": {
    "colab": {},
    "colab_type": "code",
    "deletable": false,
    "id": "sRc6oDPx6-Ib",
    "jupyter": {
     "outputs_hidden": true
    },
    "nbgrader": {
     "cell_type": "code",
     "checksum": "2c6a8483c302bc67038273867b021479",
     "grade": false,
     "grade_id": "cell-485d07f0ad8549d5",
     "locked": false,
     "schema_version": 3,
     "solution": true,
     "task": false
    }
   },
   "outputs": [],
   "source": [
    "### 0.5 Marks\n",
    "def softplus_backward(dA, Z):\n",
    "    \"\"\"\n",
    "    Inputs:\n",
    "        dA - Gradient of the cost function w.r.t. the post activation value A, of shape(size of current layer, number of examples)\n",
    "        Z - Pre activation value, of shape(size of current layer, number of examples)\n",
    "    Outputs:\n",
    "        dZ - Gradient of the cost function w.r.t. Z, of shape(size of current layer, number of examples)\n",
    "    \"\"\"\n",
    "    # Compute dZ\n",
    "    # YOUR CODE HERE\n",
    "    raise NotImplementedError()\n",
    "    return dZ"
   ]
  },
  {
   "cell_type": "code",
   "execution_count": null,
   "metadata": {
    "deletable": false,
    "editable": false,
    "nbgrader": {
     "cell_type": "code",
     "checksum": "206f4c7fe5c3d8852c232f32b9d7137f",
     "grade": false,
     "grade_id": "cell-ced258b7cc72a9c6",
     "locked": true,
     "schema_version": 3,
     "solution": false,
     "task": false
    }
   },
   "outputs": [],
   "source": [
    "# do not change code here\n",
    "### SAMPLE TEST CASE\n",
    "print(\"Running sample test case\")\n",
    "np.random.seed(7)\n",
    "dA = np.random.randn(1,2)\n",
    "Z = np.random.randn(1,2)\n",
    "st_dZ = np.array([[ 0.85913244, -0.27979175]])\n",
    "assert np.allclose(st_dZ, softplus_backward(dA, Z), atol=1e-5)\n",
    "print(\"Sample test case passed\")"
   ]
  },
  {
   "cell_type": "code",
   "execution_count": null,
   "metadata": {
    "deletable": false,
    "editable": false,
    "nbgrader": {
     "cell_type": "code",
     "checksum": "bc78df2facbab6ae418c93112e7843a8",
     "grade": true,
     "grade_id": "cell-6edeaf77c3029679",
     "locked": true,
     "points": 0.5,
     "schema_version": 3,
     "solution": false,
     "task": false
    }
   },
   "outputs": [],
   "source": [
    "# do not change code here\n",
    "# Hidden Test cases"
   ]
  },
  {
   "cell_type": "code",
   "execution_count": null,
   "metadata": {
    "colab": {},
    "colab_type": "code",
    "deletable": false,
    "id": "4O4FK6OK6-A0",
    "jupyter": {
     "outputs_hidden": true
    },
    "nbgrader": {
     "cell_type": "code",
     "checksum": "f50e4e665b2c6dc973146bd5629c7b5e",
     "grade": false,
     "grade_id": "cell-d8609867fb7002d7",
     "locked": false,
     "schema_version": 3,
     "solution": true,
     "task": false
    }
   },
   "outputs": [],
   "source": [
    "### 0.5 Marks\n",
    "def ELU_backward(dA, Z, alpha=0.1):\n",
    "    \"\"\"\n",
    "    Inputs:\n",
    "        dA - Gradient of the cost function w.r.t. the post activation value A, of shape(size of current layer, number of examples)\n",
    "        Z - Pre activation value, of shape(size of current layer, number of examples)\n",
    "        alpha - A hyperparameter\n",
    "    Outputs:\n",
    "        dZ - Gradient of the cost function w.r.t. Z, of shape(size of current layer, number of examples)\n",
    "    \"\"\"\n",
    "    # Compute dZ\n",
    "    # YOUR CODE HERE\n",
    "    raise NotImplementedError()\n",
    "    return dZ"
   ]
  },
  {
   "cell_type": "code",
   "execution_count": null,
   "metadata": {
    "deletable": false,
    "editable": false,
    "nbgrader": {
     "cell_type": "code",
     "checksum": "31b30679b19cbf20968c5ec9b0ab4625",
     "grade": false,
     "grade_id": "cell-85eb15f13fd1e6e5",
     "locked": true,
     "schema_version": 3,
     "solution": false,
     "task": false
    }
   },
   "outputs": [],
   "source": [
    "# do not change code here\n",
    "### SAMPLE TEST CASE\n",
    "print(\"Running sample test case\")\n",
    "np.random.seed(7)\n",
    "dA = np.random.randn(1,2)\n",
    "Z = np.random.randn(1,2)\n",
    "e_dZ = np.array([[ 1.6905257,  -0.46593737]])\n",
    "assert np.allclose(e_dZ, ELU_backward(dA, Z), atol=1e-5)\n",
    "print(\"Sample test case passed\")"
   ]
  },
  {
   "cell_type": "code",
   "execution_count": null,
   "metadata": {
    "deletable": false,
    "editable": false,
    "nbgrader": {
     "cell_type": "code",
     "checksum": "b3e8d461899a35dbdf65a492676c078f",
     "grade": true,
     "grade_id": "cell-48b1999d45d4b382",
     "locked": true,
     "points": 0.5,
     "schema_version": 3,
     "solution": false,
     "task": false
    }
   },
   "outputs": [],
   "source": [
    "# do not change code here\n",
    "# Hidden Test cases"
   ]
  },
  {
   "cell_type": "code",
   "execution_count": null,
   "metadata": {
    "colab": {},
    "colab_type": "code",
    "deletable": false,
    "editable": false,
    "id": "jKxjvqsIVzcz",
    "jupyter": {
     "outputs_hidden": true
    },
    "nbgrader": {
     "cell_type": "code",
     "checksum": "a6061370e3406892029bb67f860ef4d5",
     "grade": false,
     "grade_id": "cell-3dea7b75aa891a86",
     "locked": true,
     "schema_version": 3,
     "solution": false,
     "task": false
    }
   },
   "outputs": [],
   "source": [
    "# do not change code here\n",
    "def activation_backward(dA, Z, activation, alpha=0.1):\n",
    "    \"\"\"\n",
    "    Inputs:\n",
    "        dA - Gradient of the cost function w.r.t. the post activation value A, of shape(size of current layer, number of examples)\n",
    "        Z - Pre activation value, of shape(size of current layer, number of examples)\n",
    "        activation - Python string denoting the activation function used in the current layer \n",
    "        alpha - A hyperparameter for activation functions leaky_relu and ELU.\n",
    "    Outputs:\n",
    "        dZ - Gradient of the cost function w.r.t. Z, of shape(size of current layer, number of examples)\n",
    "    \"\"\"\n",
    "    if activation == \"relu\":\n",
    "        dZ = relu_backward(dA, Z)\n",
    "    elif activation == \"sigmoid\":\n",
    "        dZ = sigmoid_backward(dA, Z)\n",
    "    elif activation == \"tanh\":\n",
    "        dZ = tanh_backward(dA, Z)\n",
    "    elif activation == \"leaky_relu\":\n",
    "        dZ = leaky_relu_backward(dA, Z, alpha)\n",
    "    elif activation == \"softplus\":\n",
    "        dZ = softplus_backward(dA, Z)\n",
    "    elif activation == \"ELU\":\n",
    "        dZ = ELU_backward(dA, Z, alpha)\n",
    "    else: # Linear activation\n",
    "        dZ = linear_backward(dA, Z)   \n",
    "    return dZ"
   ]
  },
  {
   "cell_type": "markdown",
   "metadata": {
    "colab_type": "text",
    "deletable": false,
    "editable": false,
    "id": "cuo7oGE9AhB-",
    "nbgrader": {
     "cell_type": "markdown",
     "checksum": "89ee4c9908352214fd85ba367f68cfbf",
     "grade": false,
     "grade_id": "cell-6c24044490127782",
     "locked": true,
     "schema_version": 3,
     "solution": false,
     "task": false
    }
   },
   "source": [
    "#### 7.2- Backward Propagation Step (1 Mark):\n",
    "* The following function computes $dA^{[h-1]}, dW^{[h]}$ and $db^{[h]}$, given $dA^{[h]}, Z^{[h]}, W^{[h]}$ and $A^{[h-1]}$ as inputs.  \n",
    "* We can calculate $dZ^{[h]}$ using $dA^{[h]}$ and $Z^{[h]}$ as inputs to the ```activation_backward()``` function defined above.  \n",
    "* The three outputs $(dA^{[h-1]}, dW^{[h]}, db^{[h]})$ are computed using $dZ^{[h]}, W^{[h]}$ and $A^{[h-1]}$ using the below equations(using the fact that $ Z^{[h]} = W^{[h]}.A^{[h-1]}+b^{[h]}$):  \n",
    "  - $ dA^{[h-1]} = \\frac{\\partial \\mathcal{L} }{\\partial A^{[h-1]}} = W^{[h] T} dZ^{[h]}$\n",
    "  - $ dW^{[h]} = \\frac{\\partial \\mathcal{L} }{\\partial W^{[h]}} = \\frac{1}{m} dZ^{[h]} A^{[h-1] T}$\n",
    "  - $ db^{[h]} = \\frac{\\partial \\mathcal{L} }{\\partial b^{[h]}} = \\frac{1}{m} \\sum_{i = 1}^{m} dZ^{[h](i)}$\n"
   ]
  },
  {
   "cell_type": "code",
   "execution_count": null,
   "metadata": {
    "colab": {},
    "colab_type": "code",
    "deletable": false,
    "id": "EWdfqv1jZEkj",
    "jupyter": {
     "outputs_hidden": true
    },
    "nbgrader": {
     "cell_type": "code",
     "checksum": "12775bb99f3118392c465063e5ccb41a",
     "grade": false,
     "grade_id": "cell-c0afcf272ad25d13",
     "locked": false,
     "schema_version": 3,
     "solution": true,
     "task": false
    }
   },
   "outputs": [],
   "source": [
    "### 1 Mark\n",
    "def backward_step(dA, layer_cache, activation, alpha=0.1):\n",
    "    \"\"\"\n",
    "    Inputs:\n",
    "        dA - Gradient of the cost function w.r.t. the post activation value A for current layer\n",
    "        layer_cache - A list [A_prev, W, Z] for current layer, where A_prev is activation of prev layer, W is weight matrix of current layer, and Z is pre-activation value for current layer\n",
    "        activation - Python string denoting the activation function used in the current layer\n",
    "        alpha - A hyperparameter for activation functions leaky_relu and ELU.\n",
    "    Outputs:\n",
    "        dA_prev - Gradient of the cost function w.r.t. the activation (of the previous layer h-1), of same shape as A_prev\n",
    "        dW - Gradient of the cost function w.r.t. W (current layer l), of same shape as W\n",
    "        db - Gradient of the cost function w.r.t. b (current layer l), of same shape as b\n",
    "    \"\"\"\n",
    "    A_prev = layer_cache[0]\n",
    "    W = layer_cache[1]\n",
    "    Z = layer_cache[2]\n",
    "    # 1. Compute dZ by calling activation_backward(). \n",
    "    # 2. Compute dA_prev, dW and db using the equations specified above\n",
    "    # YOUR CODE HERE\n",
    "    raise NotImplementedError()\n",
    "    \n",
    "    return dA_prev, dW, db"
   ]
  },
  {
   "cell_type": "code",
   "execution_count": null,
   "metadata": {
    "colab": {
     "base_uri": "https://localhost:8080/",
     "height": 52
    },
    "colab_type": "code",
    "deletable": false,
    "editable": false,
    "id": "tnAPn6zhVN25",
    "nbgrader": {
     "cell_type": "code",
     "checksum": "e87344153d55575fc3cdae44296a8384",
     "grade": false,
     "grade_id": "cell-97c7994ca5564038",
     "locked": true,
     "schema_version": 3,
     "solution": false,
     "task": false
    },
    "outputId": "3f28ff6c-e35e-4f79-b9c5-4faa5cc9a4e5"
   },
   "outputs": [],
   "source": [
    "# do not change code here\n",
    "### SAMPLE TEST CASE\n",
    "print(\"Running sample test case\")\n",
    "np.random.seed(9)\n",
    "dA = np.random.randn(1,2)\n",
    "A_prev = np.random.randn(3,2)\n",
    "W = np.random.randn(1,3)\n",
    "Z = np.random.randn(1,2)\n",
    "layer_cache = [A_prev, W, Z]\n",
    "dA_prev, dW, db = backward_step(dA, layer_cache, \"linear\")\n",
    "assert np.allclose(dA_prev, np.array([[-0.00026681, 0.06968763], [-0.00071829, 0.18760934], [0.00070492, -0.18411849]]), atol=1e-5)\n",
    "assert np.allclose(dW, np.array([[0.00124645, 0.06944523, 0.07022351]]), atol=1e-5)\n",
    "assert np.allclose(db, np.array([[-0.14421776]]), atol=1e-5)\n",
    "print(\"Sample test case passed\")"
   ]
  },
  {
   "cell_type": "code",
   "execution_count": null,
   "metadata": {
    "colab": {},
    "colab_type": "code",
    "deletable": false,
    "editable": false,
    "id": "ASeDmtb9VNs3",
    "jupyter": {
     "outputs_hidden": true
    },
    "nbgrader": {
     "cell_type": "code",
     "checksum": "ddd6a8f74f63be667bfe02efd9d57367",
     "grade": true,
     "grade_id": "cell-a546893a7dcefb85",
     "locked": true,
     "points": 1,
     "schema_version": 3,
     "solution": false,
     "task": false
    }
   },
   "outputs": [],
   "source": [
    "# do not change code here\n",
    "# Hidden Test cases"
   ]
  },
  {
   "cell_type": "markdown",
   "metadata": {
    "colab_type": "text",
    "deletable": false,
    "editable": false,
    "id": "ZAYPzzOQO3Ix",
    "nbgrader": {
     "cell_type": "markdown",
     "checksum": "2bb7587f4c92715f9ca20e2211bc4a32",
     "grade": false,
     "grade_id": "cell-edd5f2bcaea18096",
     "locked": true,
     "schema_version": 3,
     "solution": false,
     "task": false
    }
   },
   "source": [
    "#### 7.3- Backward Propagation Module (1.5 Marks):\n",
    "* This function computes the gradients of loss function w.r.t. all the weights of the neural network.\n",
    "* To backpropagate through this network, we know that the output is, $A^{[H]} = sigmoid(Z^{[H]})$. Your code thus needs to compute $ dA^{[H]} = \\frac{\\partial \\mathcal{L}}{\\partial A^{[H]}}$. To do so, use this formula:\n",
    "$$ dA^{[H]} = -(Y / A^{[H]} - (1-Y)/(1-A^{[H]}))$$\n",
    "where $ \"/\" \\ denotes \\ elementwise \\ division$\n",
    "* You can then use this post-activation gradient $dA^{[H]}$ to keep going backward by repeatedly calling ```backward_step()``` in a for-loop repeated $H$ times.\n",
    "* The output of this function is a list ```gradients``` of length $H$, whose each element is a list [$dW^{[h]}, db^{[h]}$].\n",
    "* For the sake of clarity, consider a single-hidden layer NN with input of size 5, hidden layer size = 4 and output layer size =3. For this example, the output ```gradients``` will be [[$dW^{[1]}, db^{[1]}$], [$dW^{[2]}, db^{[2]}$]]."
   ]
  },
  {
   "cell_type": "code",
   "execution_count": null,
   "metadata": {
    "colab": {},
    "colab_type": "code",
    "deletable": false,
    "id": "6OGsL2eOCXwG",
    "jupyter": {
     "outputs_hidden": true
    },
    "nbgrader": {
     "cell_type": "code",
     "checksum": "1fed6ee8e21284b642e00b18e0d4046f",
     "grade": false,
     "grade_id": "cell-7f3167fd47b50fc2",
     "locked": false,
     "schema_version": 3,
     "solution": true,
     "task": false
    }
   },
   "outputs": [],
   "source": [
    "### 1.5 Marks\n",
    "def backward_module(AH, Y, layers_cache, activations, alpha=0.1):\n",
    "    \"\"\"\n",
    "    Inputs:\n",
    "        AH - Activations of output layer, representing probability vector corresponding to your label predictions, of shape (1, number of examples)\n",
    "        Y - Ground truth \"label\" vector of shape (1, number of examples)\n",
    "        layers_cache - A list (of length H), where each element is a list [A_prev, W, Z], representing the values A_prev (input to the layer), W (Weight matrix of the layer)\n",
    "            and Z (pre-activation value) for layer h. The purpose of cache is to store values that will be needed during backpropagation.\n",
    "        activations - A list (of length H), where each element is a Python string representing the activation function to be used in the corresponding layer\n",
    "        alpha - A hyperparameter for activation functions leaky_relu and ELU.\n",
    "    Outputs:\n",
    "        gradients - A list (of length H), where each element is a list [dW, db], representing the values dW (gradient of cost function w.r.t. W) and  \n",
    "            db (gradient of cost function w.r.t. b)\n",
    "    \"\"\"\n",
    "    gradients = []\n",
    "    H = len(layers_cache) # the number of layers\n",
    "    m = AH.shape[1]\n",
    "    Y = Y.reshape(AH.shape) \n",
    "    \n",
    "    # 1. Initializing the backpropagation - Compute dAH.\n",
    "    # 2. Use a for loop repeated H times - In each iteration, compute dW and db by using backward_step()[supplied with appropriate input parameters by using \n",
    "    # the two lists - layers_cache and activations], and insert them in the gradients list in the manner specified above.\n",
    "    # YOUR CODE HERE\n",
    "    raise NotImplementedError()\n",
    "    \n",
    "    return gradients"
   ]
  },
  {
   "cell_type": "code",
   "execution_count": null,
   "metadata": {
    "colab": {
     "base_uri": "https://localhost:8080/",
     "height": 52
    },
    "colab_type": "code",
    "deletable": false,
    "editable": false,
    "id": "KD-Ar6QqWJ0u",
    "nbgrader": {
     "cell_type": "code",
     "checksum": "754e43860bc692ccad541e8082c8ad0a",
     "grade": false,
     "grade_id": "cell-dc66a6e4bd6b154e",
     "locked": true,
     "schema_version": 3,
     "solution": false,
     "task": false
    },
    "outputId": "f1974086-cd66-4900-f873-48e9db9708c8"
   },
   "outputs": [],
   "source": [
    "# do not change code here\n",
    "### SAMPLE TEST CASE\n",
    "print(\"Running sample test case\")\n",
    "np.random.seed(5)\n",
    "AH = np.random.randn(1, 3)\n",
    "Y = np.array([[1, 0, 1]])\n",
    "A0 = np.random.randn(4,3)\n",
    "W1 = np.random.randn(2,4)\n",
    "Z1 = np.random.randn(2,3)\n",
    "A1 = np.random.randn(2,3)\n",
    "W2 = np.random.randn(1,2)\n",
    "Z2 = np.random.randn(1,3)\n",
    "layers_cache = [[A0, W1, Z1], [A1, W2, Z2]]\n",
    "activations = [\"relu\", \"sigmoid\"]\n",
    "gradients = backward_module(AH, Y, layers_cache, activations)\n",
    "assert np.allclose(gradients[0][0], np.array([[-6.04541079e-03, -1.01341276e-02, -1.75742363e-02, 1.75552561e-02],\n",
    "       [ 6.03863058e-05,  2.16659967e-02,  8.92094963e-03, 1.53067729e-02]]), atol=1e-5)\n",
    "assert np.allclose(gradients[0][1], np.array([[ 0.01067648], [-0.02851614]]), atol=1e-5)\n",
    "assert np.allclose(gradients[1][0], np.array([[ 0.07517931, -0.00451628]]), atol=1e-5)\n",
    "assert np.allclose(gradients[1][1], np.array([[-0.08177088]]), atol=1e-5)\n",
    "print(\"Sample test case passed\")"
   ]
  },
  {
   "cell_type": "code",
   "execution_count": null,
   "metadata": {
    "colab": {},
    "colab_type": "code",
    "deletable": false,
    "editable": false,
    "id": "C9YIUNKLWJlC",
    "jupyter": {
     "outputs_hidden": true
    },
    "nbgrader": {
     "cell_type": "code",
     "checksum": "feeea77780f90bc6efb51312644aedf0",
     "grade": true,
     "grade_id": "cell-0d2b5f1be41f422e",
     "locked": true,
     "points": 1.5,
     "schema_version": 3,
     "solution": false,
     "task": false
    }
   },
   "outputs": [],
   "source": [
    "# do not change code here\n",
    "# Hidden Test cases"
   ]
  },
  {
   "cell_type": "markdown",
   "metadata": {
    "colab_type": "text",
    "deletable": false,
    "editable": false,
    "id": "MoO0SjNqWQ27",
    "nbgrader": {
     "cell_type": "markdown",
     "checksum": "1c75c83705cb243af2674deac422425f",
     "grade": false,
     "grade_id": "cell-9e18d437b25161c9",
     "locked": true,
     "schema_version": 3,
     "solution": false,
     "task": false
    }
   },
   "source": [
    "### 8- Batch Gradient Descent Optimizer (0.5 Marks):\n",
    "Now that we have calculated the gradients of the loss function w.r.t. all the weights of the network, update the weights of the model, using gradient descent: \n",
    "\n",
    "$$ W^{[h]} = W^{[h]} - \\alpha \\text{ } dW^{[h]} $$\n",
    "$$ b^{[h]} = b^{[h]} - \\alpha \\text{ } db^{[h]} $$\n",
    "\n",
    "where $\\alpha$ is the learning rate.   \n",
    "After computing the updated weights, store them back in the weights list. "
   ]
  },
  {
   "cell_type": "code",
   "execution_count": null,
   "metadata": {
    "colab": {},
    "colab_type": "code",
    "deletable": false,
    "id": "JQ7SSYlEWR1D",
    "jupyter": {
     "outputs_hidden": true
    },
    "nbgrader": {
     "cell_type": "code",
     "checksum": "36e2d6007ed06db5596cd2123a07a59d",
     "grade": false,
     "grade_id": "cell-f8f764ba09dbc3dd",
     "locked": false,
     "schema_version": 3,
     "solution": true,
     "task": false
    }
   },
   "outputs": [],
   "source": [
    "### 0.5 Marks\n",
    "def update_weights(weights, gradients, lr):\n",
    "    \"\"\"\n",
    "    Inputs:\n",
    "        weights - A list (of length H), where each element is a list - [Wh, bh], representing the weights matrix and bias vector of layer h (Both Wh and bh are numpy arrays).\n",
    "        gradients - A list (of length H), where each element is a list - [dWh, dbh], representing the gradients of cost function w.r.t. weights matrix and bias vector \n",
    "            of layer h respectively (Both dWh and dbh are numpy arrays).\n",
    "        lr - Learning Rate.\n",
    "    Outputs:\n",
    "        weights - A list (of length H), containing the updated weights.\n",
    "    \"\"\"\n",
    "    H = len(weights)\n",
    "    for h in range(H):\n",
    "        # YOUR CODE HERE\n",
    "        raise NotImplementedError()\n",
    "    \n",
    "    return weights"
   ]
  },
  {
   "cell_type": "code",
   "execution_count": null,
   "metadata": {
    "colab": {
     "base_uri": "https://localhost:8080/",
     "height": 52
    },
    "colab_type": "code",
    "deletable": false,
    "editable": false,
    "id": "Q3ei0vwKug4Q",
    "nbgrader": {
     "cell_type": "code",
     "checksum": "6d688a5574d68195ba79838c6295f8bd",
     "grade": false,
     "grade_id": "cell-a153a2912eed0ef9",
     "locked": true,
     "schema_version": 3,
     "solution": false,
     "task": false
    },
    "outputId": "9bd0ee53-f4e7-4171-a5e7-ab5372e55824"
   },
   "outputs": [],
   "source": [
    "# do not change code here\n",
    "### SAMPLE TEST CASE\n",
    "print(\"Running sample test case\")\n",
    "np.random.seed(4)\n",
    "W1 = np.random.randn(2,4)\n",
    "b1 = np.random.randn(2,1)\n",
    "W2 = np.random.randn(1,2)\n",
    "b2 = np.random.randn(1,1)\n",
    "weights = [[W1, b1], [W2, b2]]\n",
    "np.random.seed(1)\n",
    "dW1 = np.random.randn(2,4)\n",
    "db1 = np.random.randn(2,1)\n",
    "dW2 = np.random.randn(1,2)\n",
    "db2 = np.random.randn(1,1)\n",
    "gradients = [[dW1, db1], [dW2, db2]]\n",
    "new_weights = update_weights(weights, gradients, 0.2)\n",
    "assert np.allclose(new_weights[0][0], np.array([[-0.27430737,  0.62230262, -0.89027458,  0.90819223],\n",
    "       [-0.59138305, -1.1242695 , -0.99666912,  0.75081655]]), atol=1e-5)\n",
    "assert np.allclose(new_weights[0][1], np.array([[ 0.26844221],\n",
    "       [-1.09760256]]), atol=1e-5)\n",
    "assert np.allclose(new_weights[1][0], np.array([[0.3262481 , 0.32404121]]), atol=1e-5)\n",
    "assert np.allclose(new_weights[1][1], np.array([[0.48955584]]), atol=1e-5)\n",
    "print(\"Sample test case passed\")"
   ]
  },
  {
   "cell_type": "code",
   "execution_count": null,
   "metadata": {
    "colab": {},
    "colab_type": "code",
    "deletable": false,
    "editable": false,
    "id": "ClAcor73ugt2",
    "jupyter": {
     "outputs_hidden": true
    },
    "nbgrader": {
     "cell_type": "code",
     "checksum": "a35314a519b5d9bee3b9e0a723424801",
     "grade": true,
     "grade_id": "cell-1700e1aacd6db06f",
     "locked": true,
     "points": 0.5,
     "schema_version": 3,
     "solution": false,
     "task": false
    }
   },
   "outputs": [],
   "source": [
    "# do not change code here\n",
    "# Hidden Test cases"
   ]
  },
  {
   "cell_type": "markdown",
   "metadata": {
    "colab_type": "text",
    "deletable": false,
    "editable": false,
    "id": "sf_x8sL5ZjqC",
    "nbgrader": {
     "cell_type": "markdown",
     "checksum": "2e167e935c90cfcae69f9d53799b9f2b",
     "grade": false,
     "grade_id": "cell-d2cd7e1fa9faaf92",
     "locked": true,
     "schema_version": 3,
     "solution": false,
     "task": false
    }
   },
   "source": [
    "### 9- Train a H-layer Neural Network:\n",
    "This function performs the following steps:  \n",
    "1. Initialize the weights of the neural network .\n",
    "2. Perform forward propagation on input argument ```X```.\n",
    "3. Compute cross entropy loss function.\n",
    "4. Perform backward propagation to compute gradients of loss function w.r.t. all the weights of the network.\n",
    "5. Use the gradients computed in step 4 to update the weights of the network.\n",
    "6. Append cross entropy cost's value to the list ```epoch_wise_costs```.\n",
    "7. Print (epoch, cross entropy cost's value) for epoch = 0, 100, 200, ...\n",
    "8. Repeat steps 2-7 for ```epochs```(input argument to below function) number of iterations.\n",
    "9. Return the weights of the neural network.\n",
    "\n",
    "We have provided the full function. All you have to do is to run the below cells to construct your neural network and train it on training data."
   ]
  },
  {
   "cell_type": "code",
   "execution_count": null,
   "metadata": {
    "colab": {},
    "colab_type": "code",
    "deletable": false,
    "editable": false,
    "id": "GTwxjlZHZ62P",
    "jupyter": {
     "outputs_hidden": true
    },
    "nbgrader": {
     "cell_type": "code",
     "checksum": "a729f4c2e0c97cced9fee7360495b758",
     "grade": false,
     "grade_id": "cell-7e281ac96d1976be",
     "locked": true,
     "schema_version": 3,
     "solution": false,
     "task": false
    }
   },
   "outputs": [],
   "source": [
    "# do not change code here\n",
    "def H_layer_NN(X, Y, layers_sizes, activations, epochs=200, lr=0.001, alpha=0.1):\n",
    "    \"\"\"\n",
    "    Inputs:\n",
    "        X - Input data, numpy array of shape (number_of_features_in_input_data, number of examples)\n",
    "        Y - Ground truth \"label\" vector of shape (1, number of examples)\n",
    "        layers_sizes - A list (of length H+1) containing the size (number of neurons) of each layer. Element at index 0 represents input layer size.\n",
    "        activations - A list (of length H), where each element is a Python string representing the activation function to be used in the corresponding layer\n",
    "        epochs - number of epochs of the training loop\n",
    "        lr - learning rate of the gradient descent update rule\n",
    "        alpha - A hyperparameter for activation functions leaky_relu and ELU.\n",
    "    Outputs:\n",
    "        weights - weights learnt by the model (can be used for prediction). A list (of length H), where each element is a list - [Wh, bh], representing the weights matrix and bias vector of layer h.\n",
    "    \"\"\"\n",
    "    epoch_wise_costs = []\n",
    "    \n",
    "    weights = construct_NN(layers_sizes)\n",
    "    for epoch in range(epochs):\n",
    "        AH, layers_cache = forward_module(X, weights, activations, alpha)\n",
    "        cost = cross_entropy_cost(AH, Y)\n",
    "        gradients = backward_module(AH, Y, layers_cache, activations, alpha)\n",
    "        update_weights(weights, gradients, lr)\n",
    "        epoch_wise_costs.append(cost)\n",
    "        if epoch % 100 == 0:\n",
    "            print(\"Cost after epoch %i: %f\" %(epoch, cost))\n",
    "    \n",
    "    plt.plot(np.array(epoch_wise_costs))\n",
    "    plt.ylabel('Cost Function')\n",
    "    plt.xlabel('Number of Epochs')\n",
    "    plt.title(\"Training Curve\")\n",
    "    \n",
    "    return weights"
   ]
  },
  {
   "cell_type": "code",
   "execution_count": null,
   "metadata": {
    "colab": {},
    "colab_type": "code",
    "id": "vIMztojuyZxi",
    "jupyter": {
     "outputs_hidden": true
    }
   },
   "outputs": [],
   "source": [
    "layers_sizes = [11, 6, 1]\n",
    "activations = [\"leaky_relu\", \"sigmoid\"]\n",
    "epochs = 10000\n",
    "lr = 0.03\n",
    "alpha = 0.01\n",
    "weights = H_layer_NN(X_train, Y_train, layers_sizes, activations, epochs, lr, alpha)"
   ]
  },
  {
   "cell_type": "markdown",
   "metadata": {
    "colab_type": "text",
    "deletable": false,
    "editable": false,
    "id": "hXJXkxjFqLSo",
    "nbgrader": {
     "cell_type": "markdown",
     "checksum": "963a6e5aec77941d1cb502b4f6a4d33b",
     "grade": false,
     "grade_id": "cell-c7ee6cb817e8d6d3",
     "locked": true,
     "schema_version": 3,
     "solution": false,
     "task": false
    }
   },
   "source": [
    "### 10- Prediction on test data using weights of the H-layer Neural Network:\n",
    "We have provided the full function. All you have to do is to run the below cells to check the accuracy of your model."
   ]
  },
  {
   "cell_type": "code",
   "execution_count": null,
   "metadata": {
    "colab": {},
    "colab_type": "code",
    "deletable": false,
    "editable": false,
    "id": "YTTx38D5daur",
    "jupyter": {
     "outputs_hidden": true
    },
    "nbgrader": {
     "cell_type": "code",
     "checksum": "d0ad96a289712f067d06004b01e7036a",
     "grade": false,
     "grade_id": "cell-6168a7fcdc5a3999",
     "locked": true,
     "schema_version": 3,
     "solution": false,
     "task": false
    }
   },
   "outputs": [],
   "source": [
    "# do not change code here\n",
    "def predict(X, Y, weights, activations, alpha=0.1, mode=\"Test\"):\n",
    "    \"\"\"\n",
    "    Inputs:\n",
    "        X - Input data/examples you would like to predict\n",
    "        Y - Ground truth labels corresponding to input data X\n",
    "        weights - weights of the trained model\n",
    "        activations - A list (of length H), where each element is a Python string representing the activation function to be used in the corresponding layer\n",
    "        alpha - A hyperparameter for activation functions leaky_relu and ELU.\n",
    "    Outputs:\n",
    "        p -- predictions for the given dataset X\n",
    "    \"\"\"\n",
    "    m = X.shape[1]\n",
    "    p = np.zeros(m)\n",
    "    AH, _ = forward_module(X, weights, activations, alpha)\n",
    "    AH = np.squeeze(AH)\n",
    "    pos_pred = AH > 0.5\n",
    "    p[pos_pred] = 1\n",
    "    print(mode + \" Accuracy: \"  + str(np.sum(p == Y)/m))\n",
    "    return p"
   ]
  },
  {
   "cell_type": "code",
   "execution_count": null,
   "metadata": {
    "colab": {},
    "colab_type": "code",
    "deletable": false,
    "editable": false,
    "id": "k7DZuhLCyaPk",
    "jupyter": {
     "outputs_hidden": true
    },
    "nbgrader": {
     "cell_type": "code",
     "checksum": "50ac62ff2d7a42a8fba4e4df5b30a2e5",
     "grade": false,
     "grade_id": "cell-e6e9c3bc88d7fe38",
     "locked": true,
     "schema_version": 3,
     "solution": false,
     "task": false
    }
   },
   "outputs": [],
   "source": [
    "training_predictions = predict(X_train, Y_train, weights, activations, mode=\"Train\")\n",
    "test_predictions = predict(X_test, Y_test, weights, activations, mode=\"Test\")"
   ]
  },
  {
   "cell_type": "markdown",
   "metadata": {
    "colab_type": "text",
    "deletable": false,
    "editable": false,
    "id": "0Tcq0qXXGsGM",
    "nbgrader": {
     "cell_type": "markdown",
     "checksum": "8d2e9fc4f6af5cb455f2e2de00414d29",
     "grade": false,
     "grade_id": "cell-7d40f835821a378c",
     "locked": true,
     "schema_version": 3,
     "solution": false,
     "task": false
    }
   },
   "source": [
    "### 11-  Summary:\n",
    "* Finally, we have implemented a custom neural network with as many layers as you want and with each layer having an activation function of your choice. Congrats on completing such a lengthy assignment (with maybe a bit more math than expected !). We feel this will help you understand important NumPy concepts like broadcasting, masking, vectorisation, etc. and also give you an insight into data preprocessing. Also, we hope this will give you a feel of how backpropgation is implemented for a fully connected neural network.\n",
    "\n",
    "* You can always try and improve the accuracy of your model by tuning various hyperparameters like number of hidden layers, sizes of hidden layers, activation functions used in the hidden layers, learning rate, number of epochs, etc.\n",
    "\n",
    "* As you will learn later in the course, you can also employ regularization techniques (like L2 regularization and dropout regularization) to reduce overfitting and batch normalisation (useful for a very deep neural network)."
   ]
  }
 ],
 "metadata": {
  "colab": {
   "collapsed_sections": [
    "hdWn_tEvflV7",
    "1PGh3P3sflW3",
    "f6RkICB7flYJ"
   ],
   "name": "Assignment_1_Parth_v3.ipynb",
   "provenance": [],
   "version": "0.3.2"
  },
  "kernelspec": {
   "display_name": "Python 3",
   "language": "python",
   "name": "python3"
  },
  "language_info": {
   "codemirror_mode": {
    "name": "ipython",
    "version": 3
   },
   "file_extension": ".py",
   "mimetype": "text/x-python",
   "name": "python",
   "nbconvert_exporter": "python",
   "pygments_lexer": "ipython3",
   "version": "3.7.4"
  }
 },
 "nbformat": 4,
 "nbformat_minor": 1
}
